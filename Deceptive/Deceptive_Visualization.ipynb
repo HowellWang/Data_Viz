{
 "cells": [
  {
   "cell_type": "code",
   "execution_count": 3,
   "metadata": {
    "collapsed": false,
    "deletable": true,
    "editable": true
   },
   "outputs": [],
   "source": [
    "import pandas as pd\n",
    "import numpy as np\n",
    "import matplotlib.pyplot as plt\n",
    "%matplotlib inline\n",
    "import warnings\n",
    "warnings.filterwarnings('ignore')"
   ]
  },
  {
   "cell_type": "code",
   "execution_count": 4,
   "metadata": {
    "collapsed": false,
    "deletable": true,
    "editable": true
   },
   "outputs": [],
   "source": [
    "df = pd.read_excel(\"Washington2008-2017.xls\")"
   ]
  },
  {
   "cell_type": "code",
   "execution_count": 5,
   "metadata": {
    "collapsed": false
   },
   "outputs": [
    {
     "data": {
      "text/html": [
       "<div>\n",
       "<style>\n",
       "    .dataframe thead tr:only-child th {\n",
       "        text-align: right;\n",
       "    }\n",
       "\n",
       "    .dataframe thead th {\n",
       "        text-align: left;\n",
       "    }\n",
       "\n",
       "    .dataframe tbody tr th {\n",
       "        vertical-align: top;\n",
       "    }\n",
       "</style>\n",
       "<table border=\"1\" class=\"dataframe\">\n",
       "  <thead>\n",
       "    <tr style=\"text-align: right;\">\n",
       "      <th></th>\n",
       "      <th>Washington</th>\n",
       "      <th>Fatal Crashes</th>\n",
       "      <th>Unnamed: 2</th>\n",
       "      <th>Unnamed: 3</th>\n",
       "      <th>Unnamed: 4</th>\n",
       "      <th>Unnamed: 5</th>\n",
       "      <th>Unnamed: 6</th>\n",
       "      <th>Unnamed: 7</th>\n",
       "      <th>Unnamed: 8</th>\n",
       "      <th>Unnamed: 9</th>\n",
       "      <th>...</th>\n",
       "      <th>Unnamed: 27</th>\n",
       "      <th>Total Serious Injuries</th>\n",
       "      <th>Unnamed: 29</th>\n",
       "      <th>Unnamed: 30</th>\n",
       "      <th>Unnamed: 31</th>\n",
       "      <th>Unnamed: 32</th>\n",
       "      <th>Unnamed: 33</th>\n",
       "      <th>Unnamed: 34</th>\n",
       "      <th>Unnamed: 35</th>\n",
       "      <th>Unnamed: 36</th>\n",
       "    </tr>\n",
       "  </thead>\n",
       "  <tbody>\n",
       "    <tr>\n",
       "      <th>0</th>\n",
       "      <td>NaN</td>\n",
       "      <td>2008.0</td>\n",
       "      <td>2009.0</td>\n",
       "      <td>2010.0</td>\n",
       "      <td>2011.0</td>\n",
       "      <td>2012.0</td>\n",
       "      <td>2013.0</td>\n",
       "      <td>2014.0</td>\n",
       "      <td>2015.0</td>\n",
       "      <td>2016.0</td>\n",
       "      <td>...</td>\n",
       "      <td>2016</td>\n",
       "      <td>2008</td>\n",
       "      <td>2009</td>\n",
       "      <td>2010</td>\n",
       "      <td>2011</td>\n",
       "      <td>2012</td>\n",
       "      <td>2013</td>\n",
       "      <td>2014</td>\n",
       "      <td>2015</td>\n",
       "      <td>2016</td>\n",
       "    </tr>\n",
       "    <tr>\n",
       "      <th>1</th>\n",
       "      <td>Target Zero Statewide Priority</td>\n",
       "      <td>NaN</td>\n",
       "      <td>NaN</td>\n",
       "      <td>NaN</td>\n",
       "      <td>NaN</td>\n",
       "      <td>NaN</td>\n",
       "      <td>NaN</td>\n",
       "      <td>NaN</td>\n",
       "      <td>NaN</td>\n",
       "      <td>NaN</td>\n",
       "      <td>...</td>\n",
       "      <td>NaN</td>\n",
       "      <td>NaN</td>\n",
       "      <td>NaN</td>\n",
       "      <td>NaN</td>\n",
       "      <td>NaN</td>\n",
       "      <td>NaN</td>\n",
       "      <td>NaN</td>\n",
       "      <td>NaN</td>\n",
       "      <td>NaN</td>\n",
       "      <td>NaN</td>\n",
       "    </tr>\n",
       "    <tr>\n",
       "      <th>2</th>\n",
       "      <td>TOTAL</td>\n",
       "      <td>482.0</td>\n",
       "      <td>453.0</td>\n",
       "      <td>422.0</td>\n",
       "      <td>421.0</td>\n",
       "      <td>403.0</td>\n",
       "      <td>401.0</td>\n",
       "      <td>429.0</td>\n",
       "      <td>499.0</td>\n",
       "      <td>503.0</td>\n",
       "      <td>...</td>\n",
       "      <td>1885</td>\n",
       "      <td>2552</td>\n",
       "      <td>2646</td>\n",
       "      <td>2482</td>\n",
       "      <td>2136</td>\n",
       "      <td>2200</td>\n",
       "      <td>1914</td>\n",
       "      <td>2006</td>\n",
       "      <td>2091</td>\n",
       "      <td>2209</td>\n",
       "    </tr>\n",
       "    <tr>\n",
       "      <th>3</th>\n",
       "      <td>Priority One</td>\n",
       "      <td>NaN</td>\n",
       "      <td>NaN</td>\n",
       "      <td>NaN</td>\n",
       "      <td>NaN</td>\n",
       "      <td>NaN</td>\n",
       "      <td>NaN</td>\n",
       "      <td>NaN</td>\n",
       "      <td>NaN</td>\n",
       "      <td>NaN</td>\n",
       "      <td>...</td>\n",
       "      <td>NaN</td>\n",
       "      <td>NaN</td>\n",
       "      <td>NaN</td>\n",
       "      <td>NaN</td>\n",
       "      <td>NaN</td>\n",
       "      <td>NaN</td>\n",
       "      <td>NaN</td>\n",
       "      <td>NaN</td>\n",
       "      <td>NaN</td>\n",
       "      <td>NaN</td>\n",
       "    </tr>\n",
       "    <tr>\n",
       "      <th>4</th>\n",
       "      <td>Impaired Driver-Involved</td>\n",
       "      <td>235.0</td>\n",
       "      <td>242.0</td>\n",
       "      <td>218.0</td>\n",
       "      <td>195.0</td>\n",
       "      <td>195.0</td>\n",
       "      <td>209.0</td>\n",
       "      <td>209.0</td>\n",
       "      <td>229.0</td>\n",
       "      <td>257.0</td>\n",
       "      <td>...</td>\n",
       "      <td>290</td>\n",
       "      <td>527</td>\n",
       "      <td>570</td>\n",
       "      <td>470</td>\n",
       "      <td>479</td>\n",
       "      <td>501</td>\n",
       "      <td>412</td>\n",
       "      <td>375</td>\n",
       "      <td>367</td>\n",
       "      <td>371</td>\n",
       "    </tr>\n",
       "  </tbody>\n",
       "</table>\n",
       "<p>5 rows × 37 columns</p>\n",
       "</div>"
      ],
      "text/plain": [
       "                       Washington  Fatal Crashes  Unnamed: 2  Unnamed: 3  \\\n",
       "0                             NaN         2008.0      2009.0      2010.0   \n",
       "1  Target Zero Statewide Priority            NaN         NaN         NaN   \n",
       "2                           TOTAL          482.0       453.0       422.0   \n",
       "3                    Priority One            NaN         NaN         NaN   \n",
       "4        Impaired Driver-Involved          235.0       242.0       218.0   \n",
       "\n",
       "   Unnamed: 4  Unnamed: 5  Unnamed: 6  Unnamed: 7  Unnamed: 8  Unnamed: 9  \\\n",
       "0      2011.0      2012.0      2013.0      2014.0      2015.0      2016.0   \n",
       "1         NaN         NaN         NaN         NaN         NaN         NaN   \n",
       "2       421.0       403.0       401.0       429.0       499.0       503.0   \n",
       "3         NaN         NaN         NaN         NaN         NaN         NaN   \n",
       "4       195.0       195.0       209.0       209.0       229.0       257.0   \n",
       "\n",
       "      ...     Unnamed: 27 Total Serious Injuries Unnamed: 29 Unnamed: 30  \\\n",
       "0     ...            2016                   2008        2009        2010   \n",
       "1     ...             NaN                    NaN         NaN         NaN   \n",
       "2     ...            1885                   2552        2646        2482   \n",
       "3     ...             NaN                    NaN         NaN         NaN   \n",
       "4     ...             290                    527         570         470   \n",
       "\n",
       "  Unnamed: 31 Unnamed: 32 Unnamed: 33 Unnamed: 34 Unnamed: 35 Unnamed: 36  \n",
       "0        2011        2012        2013        2014        2015        2016  \n",
       "1         NaN         NaN         NaN         NaN         NaN         NaN  \n",
       "2        2136        2200        1914        2006        2091        2209  \n",
       "3         NaN         NaN         NaN         NaN         NaN         NaN  \n",
       "4         479         501         412         375         367         371  \n",
       "\n",
       "[5 rows x 37 columns]"
      ]
     },
     "execution_count": 5,
     "metadata": {},
     "output_type": "execute_result"
    }
   ],
   "source": [
    "df.head()"
   ]
  },
  {
   "cell_type": "code",
   "execution_count": 6,
   "metadata": {
    "collapsed": false,
    "deletable": true,
    "editable": true
   },
   "outputs": [],
   "source": [
    "df = df.ix[0:9, 0:10]\n",
    "d = dict()\n",
    "d[df.ix[2,0]] = df.ix[2, 1:10]\n",
    "d[df.ix[5,0]] = df.ix[5, 1:10]\n",
    "d[df.ix[7,0]] = df.ix[7, 1:10]\n",
    "d[df.ix[8,0]] = df.ix[8, 1:10]"
   ]
  },
  {
   "cell_type": "code",
   "execution_count": 7,
   "metadata": {
    "collapsed": true,
    "deletable": true,
    "editable": true
   },
   "outputs": [],
   "source": [
    "df = pd.DataFrame(data=d)\n",
    "df.index = list(range(9))\n",
    "df.index = df.index + 2008\n",
    "df.rename(columns=(lambda x: x.strip()), inplace=True)"
   ]
  },
  {
   "cell_type": "code",
   "execution_count": 8,
   "metadata": {
    "collapsed": false,
    "deletable": true,
    "editable": true
   },
   "outputs": [
    {
     "data": {
      "text/html": [
       "<div>\n",
       "<style>\n",
       "    .dataframe thead tr:only-child th {\n",
       "        text-align: right;\n",
       "    }\n",
       "\n",
       "    .dataframe thead th {\n",
       "        text-align: left;\n",
       "    }\n",
       "\n",
       "    .dataframe tbody tr th {\n",
       "        vertical-align: top;\n",
       "    }\n",
       "</style>\n",
       "<table border=\"1\" class=\"dataframe\">\n",
       "  <thead>\n",
       "    <tr style=\"text-align: right;\">\n",
       "      <th></th>\n",
       "      <th>Drinking Driver-Involved</th>\n",
       "      <th>Drug Positive Driver-Involved**</th>\n",
       "      <th>Marijuana Positive Driver-Involved**</th>\n",
       "      <th>TOTAL</th>\n",
       "    </tr>\n",
       "  </thead>\n",
       "  <tbody>\n",
       "    <tr>\n",
       "      <th>2008</th>\n",
       "      <td>204</td>\n",
       "      <td>143</td>\n",
       "      <td>74</td>\n",
       "      <td>482</td>\n",
       "    </tr>\n",
       "    <tr>\n",
       "      <th>2009</th>\n",
       "      <td>214</td>\n",
       "      <td>142</td>\n",
       "      <td>76</td>\n",
       "      <td>453</td>\n",
       "    </tr>\n",
       "    <tr>\n",
       "      <th>2010</th>\n",
       "      <td>170</td>\n",
       "      <td>141</td>\n",
       "      <td>78</td>\n",
       "      <td>422</td>\n",
       "    </tr>\n",
       "    <tr>\n",
       "      <th>2011</th>\n",
       "      <td>164</td>\n",
       "      <td>115</td>\n",
       "      <td>55</td>\n",
       "      <td>421</td>\n",
       "    </tr>\n",
       "    <tr>\n",
       "      <th>2012</th>\n",
       "      <td>143</td>\n",
       "      <td>128</td>\n",
       "      <td>62</td>\n",
       "      <td>403</td>\n",
       "    </tr>\n",
       "    <tr>\n",
       "      <th>2013</th>\n",
       "      <td>149</td>\n",
       "      <td>143</td>\n",
       "      <td>58</td>\n",
       "      <td>401</td>\n",
       "    </tr>\n",
       "    <tr>\n",
       "      <th>2014</th>\n",
       "      <td>144</td>\n",
       "      <td>160</td>\n",
       "      <td>87</td>\n",
       "      <td>429</td>\n",
       "    </tr>\n",
       "    <tr>\n",
       "      <th>2015</th>\n",
       "      <td>154</td>\n",
       "      <td>181</td>\n",
       "      <td>91</td>\n",
       "      <td>499</td>\n",
       "    </tr>\n",
       "    <tr>\n",
       "      <th>2016</th>\n",
       "      <td>159</td>\n",
       "      <td>204</td>\n",
       "      <td>105</td>\n",
       "      <td>503</td>\n",
       "    </tr>\n",
       "  </tbody>\n",
       "</table>\n",
       "</div>"
      ],
      "text/plain": [
       "     Drinking Driver-Involved Drug Positive Driver-Involved**  \\\n",
       "2008                      204                             143   \n",
       "2009                      214                             142   \n",
       "2010                      170                             141   \n",
       "2011                      164                             115   \n",
       "2012                      143                             128   \n",
       "2013                      149                             143   \n",
       "2014                      144                             160   \n",
       "2015                      154                             181   \n",
       "2016                      159                             204   \n",
       "\n",
       "     Marijuana Positive Driver-Involved** TOTAL  \n",
       "2008                                   74   482  \n",
       "2009                                   76   453  \n",
       "2010                                   78   422  \n",
       "2011                                   55   421  \n",
       "2012                                   62   403  \n",
       "2013                                   58   401  \n",
       "2014                                   87   429  \n",
       "2015                                   91   499  \n",
       "2016                                  105   503  "
      ]
     },
     "execution_count": 8,
     "metadata": {},
     "output_type": "execute_result"
    }
   ],
   "source": [
    "df"
   ]
  },
  {
   "cell_type": "code",
   "execution_count": 9,
   "metadata": {
    "collapsed": true,
    "deletable": true,
    "editable": true
   },
   "outputs": [],
   "source": [
    "df = (df.ix[:,0:3].T / df.TOTAL).T"
   ]
  },
  {
   "cell_type": "code",
   "execution_count": 10,
   "metadata": {
    "collapsed": false,
    "deletable": true,
    "editable": true
   },
   "outputs": [
    {
     "data": {
      "text/html": [
       "<div>\n",
       "<style>\n",
       "    .dataframe thead tr:only-child th {\n",
       "        text-align: right;\n",
       "    }\n",
       "\n",
       "    .dataframe thead th {\n",
       "        text-align: left;\n",
       "    }\n",
       "\n",
       "    .dataframe tbody tr th {\n",
       "        vertical-align: top;\n",
       "    }\n",
       "</style>\n",
       "<table border=\"1\" class=\"dataframe\">\n",
       "  <thead>\n",
       "    <tr style=\"text-align: right;\">\n",
       "      <th></th>\n",
       "      <th>Drinking Driver-Involved</th>\n",
       "      <th>Drug Positive Driver-Involved**</th>\n",
       "      <th>Marijuana Positive Driver-Involved**</th>\n",
       "    </tr>\n",
       "  </thead>\n",
       "  <tbody>\n",
       "    <tr>\n",
       "      <th>2008</th>\n",
       "      <td>0.423237</td>\n",
       "      <td>0.29668</td>\n",
       "      <td>0.153527</td>\n",
       "    </tr>\n",
       "    <tr>\n",
       "      <th>2009</th>\n",
       "      <td>0.472406</td>\n",
       "      <td>0.313466</td>\n",
       "      <td>0.16777</td>\n",
       "    </tr>\n",
       "    <tr>\n",
       "      <th>2010</th>\n",
       "      <td>0.402844</td>\n",
       "      <td>0.334123</td>\n",
       "      <td>0.184834</td>\n",
       "    </tr>\n",
       "    <tr>\n",
       "      <th>2011</th>\n",
       "      <td>0.389549</td>\n",
       "      <td>0.273159</td>\n",
       "      <td>0.130641</td>\n",
       "    </tr>\n",
       "    <tr>\n",
       "      <th>2012</th>\n",
       "      <td>0.354839</td>\n",
       "      <td>0.317618</td>\n",
       "      <td>0.153846</td>\n",
       "    </tr>\n",
       "    <tr>\n",
       "      <th>2013</th>\n",
       "      <td>0.371571</td>\n",
       "      <td>0.356608</td>\n",
       "      <td>0.144638</td>\n",
       "    </tr>\n",
       "    <tr>\n",
       "      <th>2014</th>\n",
       "      <td>0.335664</td>\n",
       "      <td>0.37296</td>\n",
       "      <td>0.202797</td>\n",
       "    </tr>\n",
       "    <tr>\n",
       "      <th>2015</th>\n",
       "      <td>0.308617</td>\n",
       "      <td>0.362725</td>\n",
       "      <td>0.182365</td>\n",
       "    </tr>\n",
       "    <tr>\n",
       "      <th>2016</th>\n",
       "      <td>0.316103</td>\n",
       "      <td>0.405567</td>\n",
       "      <td>0.208748</td>\n",
       "    </tr>\n",
       "  </tbody>\n",
       "</table>\n",
       "</div>"
      ],
      "text/plain": [
       "     Drinking Driver-Involved Drug Positive Driver-Involved**  \\\n",
       "2008                 0.423237                         0.29668   \n",
       "2009                 0.472406                        0.313466   \n",
       "2010                 0.402844                        0.334123   \n",
       "2011                 0.389549                        0.273159   \n",
       "2012                 0.354839                        0.317618   \n",
       "2013                 0.371571                        0.356608   \n",
       "2014                 0.335664                         0.37296   \n",
       "2015                 0.308617                        0.362725   \n",
       "2016                 0.316103                        0.405567   \n",
       "\n",
       "     Marijuana Positive Driver-Involved**  \n",
       "2008                             0.153527  \n",
       "2009                              0.16777  \n",
       "2010                             0.184834  \n",
       "2011                             0.130641  \n",
       "2012                             0.153846  \n",
       "2013                             0.144638  \n",
       "2014                             0.202797  \n",
       "2015                             0.182365  \n",
       "2016                             0.208748  "
      ]
     },
     "execution_count": 10,
     "metadata": {},
     "output_type": "execute_result"
    }
   ],
   "source": [
    "df"
   ]
  },
  {
   "cell_type": "code",
   "execution_count": 11,
   "metadata": {
    "collapsed": false,
    "deletable": true,
    "editable": true
   },
   "outputs": [],
   "source": [
    "helper = df['Marijuana Positive Driver-Involved**'] / df['Drug Positive Driver-Involved**']"
   ]
  },
  {
   "cell_type": "code",
   "execution_count": 12,
   "metadata": {
    "collapsed": false,
    "deletable": true,
    "editable": true
   },
   "outputs": [
    {
     "data": {
      "text/plain": [
       "2008    0.517483\n",
       "2009    0.535211\n",
       "2010    0.553191\n",
       "2011    0.478261\n",
       "2012    0.484375\n",
       "2013    0.405594\n",
       "2014     0.54375\n",
       "2015    0.502762\n",
       "2016    0.514706\n",
       "dtype: object"
      ]
     },
     "execution_count": 12,
     "metadata": {},
     "output_type": "execute_result"
    }
   ],
   "source": [
    "helper"
   ]
  },
  {
   "cell_type": "code",
   "execution_count": 13,
   "metadata": {
    "collapsed": false,
    "deletable": true,
    "editable": true,
    "scrolled": true
   },
   "outputs": [
    {
     "data": {
      "text/plain": [
       "<matplotlib.axes._subplots.AxesSubplot at 0x1097cc710>"
      ]
     },
     "execution_count": 13,
     "metadata": {},
     "output_type": "execute_result"
    },
    {
     "data": {
      "image/png": "[encoded data removed]",
      "text/plain": [
       "<matplotlib.figure.Figure at 0x1097b7bd0>"
      ]
     },
     "metadata": {},
     "output_type": "display_data"
    }
   ],
   "source": [
    "helper.plot()"
   ]
  },
  {
   "cell_type": "code",
   "execution_count": 14,
   "metadata": {
    "collapsed": false,
    "deletable": true,
    "editable": true
   },
   "outputs": [],
   "source": [
    "helper.to_csv(\"helper.csv\")"
   ]
  }
 ],
 "metadata": {
  "kernelspec": {
   "display_name": "Python 2",
   "language": "python",
   "name": "python2"
  },
  "language_info": {
   "codemirror_mode": {
    "name": "ipython",
    "version": 2
   },
   "file_extension": ".py",
   "mimetype": "text/x-python",
   "name": "python",
   "nbconvert_exporter": "python",
   "pygments_lexer": "ipython2",
   "version": "2.7.11"
  }
 },
 "nbformat": 4,
 "nbformat_minor": 2
}
