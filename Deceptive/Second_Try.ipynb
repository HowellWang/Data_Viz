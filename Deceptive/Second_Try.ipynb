{
 "cells": [
  {
   "cell_type": "code",
   "execution_count": 1,
   "metadata": {
    "collapsed": true
   },
   "outputs": [],
   "source": [
    "import pandas as pd\n",
    "import numpy as np\n",
    "import matplotlib.pyplot as plt\n",
    "%matplotlib inline\n",
    "import warnings\n",
    "warnings.filterwarnings('ignore')"
   ]
  },
  {
   "cell_type": "code",
   "execution_count": 2,
   "metadata": {
    "collapsed": true
   },
   "outputs": [],
   "source": [
    "df = pd.read_excel(\"Washington2008-2017.xls\")"
   ]
  },
  {
   "cell_type": "code",
   "execution_count": 3,
   "metadata": {
    "collapsed": true
   },
   "outputs": [],
   "source": [
    "df = df.ix[0:9, 0:10]\n",
    "d = dict()\n",
    "d[df.ix[2,0]] = df.ix[2, 1:10]\n",
    "d[df.ix[5,0]] = df.ix[5, 1:10]\n",
    "d[df.ix[7,0]] = df.ix[7, 1:10]\n",
    "d[df.ix[8,0]] = df.ix[8, 1:10]"
   ]
  },
  {
   "cell_type": "code",
   "execution_count": 4,
   "metadata": {
    "collapsed": true
   },
   "outputs": [],
   "source": [
    "df = pd.DataFrame(data=d)\n",
    "df.index = list(range(9))\n",
    "df.index = df.index + 2008\n",
    "df.rename(columns=(lambda x: x.strip()), inplace=True)"
   ]
  },
  {
   "cell_type": "code",
   "execution_count": 5,
   "metadata": {
    "collapsed": false
   },
   "outputs": [
    {
     "data": {
      "text/html": [
       "<div>\n",
       "<style>\n",
       "    .dataframe thead tr:only-child th {\n",
       "        text-align: right;\n",
       "    }\n",
       "\n",
       "    .dataframe thead th {\n",
       "        text-align: left;\n",
       "    }\n",
       "\n",
       "    .dataframe tbody tr th {\n",
       "        vertical-align: top;\n",
       "    }\n",
       "</style>\n",
       "<table border=\"1\" class=\"dataframe\">\n",
       "  <thead>\n",
       "    <tr style=\"text-align: right;\">\n",
       "      <th></th>\n",
       "      <th>Drinking Driver-Involved</th>\n",
       "      <th>Drug Positive Driver-Involved**</th>\n",
       "      <th>Marijuana Positive Driver-Involved**</th>\n",
       "      <th>TOTAL</th>\n",
       "    </tr>\n",
       "  </thead>\n",
       "  <tbody>\n",
       "    <tr>\n",
       "      <th>2008</th>\n",
       "      <td>204</td>\n",
       "      <td>143</td>\n",
       "      <td>74</td>\n",
       "      <td>482</td>\n",
       "    </tr>\n",
       "    <tr>\n",
       "      <th>2009</th>\n",
       "      <td>214</td>\n",
       "      <td>142</td>\n",
       "      <td>76</td>\n",
       "      <td>453</td>\n",
       "    </tr>\n",
       "    <tr>\n",
       "      <th>2010</th>\n",
       "      <td>170</td>\n",
       "      <td>141</td>\n",
       "      <td>78</td>\n",
       "      <td>422</td>\n",
       "    </tr>\n",
       "    <tr>\n",
       "      <th>2011</th>\n",
       "      <td>164</td>\n",
       "      <td>115</td>\n",
       "      <td>55</td>\n",
       "      <td>421</td>\n",
       "    </tr>\n",
       "    <tr>\n",
       "      <th>2012</th>\n",
       "      <td>143</td>\n",
       "      <td>128</td>\n",
       "      <td>62</td>\n",
       "      <td>403</td>\n",
       "    </tr>\n",
       "    <tr>\n",
       "      <th>2013</th>\n",
       "      <td>149</td>\n",
       "      <td>143</td>\n",
       "      <td>58</td>\n",
       "      <td>401</td>\n",
       "    </tr>\n",
       "    <tr>\n",
       "      <th>2014</th>\n",
       "      <td>144</td>\n",
       "      <td>160</td>\n",
       "      <td>87</td>\n",
       "      <td>429</td>\n",
       "    </tr>\n",
       "    <tr>\n",
       "      <th>2015</th>\n",
       "      <td>154</td>\n",
       "      <td>181</td>\n",
       "      <td>91</td>\n",
       "      <td>499</td>\n",
       "    </tr>\n",
       "    <tr>\n",
       "      <th>2016</th>\n",
       "      <td>159</td>\n",
       "      <td>204</td>\n",
       "      <td>105</td>\n",
       "      <td>503</td>\n",
       "    </tr>\n",
       "  </tbody>\n",
       "</table>\n",
       "</div>"
      ],
      "text/plain": [
       "     Drinking Driver-Involved Drug Positive Driver-Involved**  \\\n",
       "2008                      204                             143   \n",
       "2009                      214                             142   \n",
       "2010                      170                             141   \n",
       "2011                      164                             115   \n",
       "2012                      143                             128   \n",
       "2013                      149                             143   \n",
       "2014                      144                             160   \n",
       "2015                      154                             181   \n",
       "2016                      159                             204   \n",
       "\n",
       "     Marijuana Positive Driver-Involved** TOTAL  \n",
       "2008                                   74   482  \n",
       "2009                                   76   453  \n",
       "2010                                   78   422  \n",
       "2011                                   55   421  \n",
       "2012                                   62   403  \n",
       "2013                                   58   401  \n",
       "2014                                   87   429  \n",
       "2015                                   91   499  \n",
       "2016                                  105   503  "
      ]
     },
     "execution_count": 5,
     "metadata": {},
     "output_type": "execute_result"
    }
   ],
   "source": [
    "df"
   ]
  },
  {
   "cell_type": "code",
   "execution_count": 6,
   "metadata": {
    "collapsed": true
   },
   "outputs": [],
   "source": [
    "df = (df.ix[:,0:3].T / df.TOTAL).T"
   ]
  },
  {
   "cell_type": "code",
   "execution_count": 7,
   "metadata": {
    "collapsed": true
   },
   "outputs": [],
   "source": [
    "df['Other Drug'] = df['Drug Positive Driver-Involved**'] - df['Marijuana Positive Driver-Involved**']"
   ]
  },
  {
   "cell_type": "code",
   "execution_count": 8,
   "metadata": {
    "collapsed": false
   },
   "outputs": [
    {
     "data": {
      "text/html": [
       "<div>\n",
       "<style>\n",
       "    .dataframe thead tr:only-child th {\n",
       "        text-align: right;\n",
       "    }\n",
       "\n",
       "    .dataframe thead th {\n",
       "        text-align: left;\n",
       "    }\n",
       "\n",
       "    .dataframe tbody tr th {\n",
       "        vertical-align: top;\n",
       "    }\n",
       "</style>\n",
       "<table border=\"1\" class=\"dataframe\">\n",
       "  <thead>\n",
       "    <tr style=\"text-align: right;\">\n",
       "      <th></th>\n",
       "      <th>Drinking Driver-Involved</th>\n",
       "      <th>Drug Positive Driver-Involved**</th>\n",
       "      <th>Marijuana Positive Driver-Involved**</th>\n",
       "      <th>Other Drug</th>\n",
       "    </tr>\n",
       "  </thead>\n",
       "  <tbody>\n",
       "    <tr>\n",
       "      <th>2008</th>\n",
       "      <td>0.423237</td>\n",
       "      <td>0.29668</td>\n",
       "      <td>0.153527</td>\n",
       "      <td>0.143154</td>\n",
       "    </tr>\n",
       "    <tr>\n",
       "      <th>2009</th>\n",
       "      <td>0.472406</td>\n",
       "      <td>0.313466</td>\n",
       "      <td>0.16777</td>\n",
       "      <td>0.145695</td>\n",
       "    </tr>\n",
       "    <tr>\n",
       "      <th>2010</th>\n",
       "      <td>0.402844</td>\n",
       "      <td>0.334123</td>\n",
       "      <td>0.184834</td>\n",
       "      <td>0.149289</td>\n",
       "    </tr>\n",
       "    <tr>\n",
       "      <th>2011</th>\n",
       "      <td>0.389549</td>\n",
       "      <td>0.273159</td>\n",
       "      <td>0.130641</td>\n",
       "      <td>0.142518</td>\n",
       "    </tr>\n",
       "    <tr>\n",
       "      <th>2012</th>\n",
       "      <td>0.354839</td>\n",
       "      <td>0.317618</td>\n",
       "      <td>0.153846</td>\n",
       "      <td>0.163772</td>\n",
       "    </tr>\n",
       "    <tr>\n",
       "      <th>2013</th>\n",
       "      <td>0.371571</td>\n",
       "      <td>0.356608</td>\n",
       "      <td>0.144638</td>\n",
       "      <td>0.21197</td>\n",
       "    </tr>\n",
       "    <tr>\n",
       "      <th>2014</th>\n",
       "      <td>0.335664</td>\n",
       "      <td>0.37296</td>\n",
       "      <td>0.202797</td>\n",
       "      <td>0.170163</td>\n",
       "    </tr>\n",
       "    <tr>\n",
       "      <th>2015</th>\n",
       "      <td>0.308617</td>\n",
       "      <td>0.362725</td>\n",
       "      <td>0.182365</td>\n",
       "      <td>0.180361</td>\n",
       "    </tr>\n",
       "    <tr>\n",
       "      <th>2016</th>\n",
       "      <td>0.316103</td>\n",
       "      <td>0.405567</td>\n",
       "      <td>0.208748</td>\n",
       "      <td>0.196819</td>\n",
       "    </tr>\n",
       "  </tbody>\n",
       "</table>\n",
       "</div>"
      ],
      "text/plain": [
       "     Drinking Driver-Involved Drug Positive Driver-Involved**  \\\n",
       "2008                 0.423237                         0.29668   \n",
       "2009                 0.472406                        0.313466   \n",
       "2010                 0.402844                        0.334123   \n",
       "2011                 0.389549                        0.273159   \n",
       "2012                 0.354839                        0.317618   \n",
       "2013                 0.371571                        0.356608   \n",
       "2014                 0.335664                         0.37296   \n",
       "2015                 0.308617                        0.362725   \n",
       "2016                 0.316103                        0.405567   \n",
       "\n",
       "     Marijuana Positive Driver-Involved** Other Drug  \n",
       "2008                             0.153527   0.143154  \n",
       "2009                              0.16777   0.145695  \n",
       "2010                             0.184834   0.149289  \n",
       "2011                             0.130641   0.142518  \n",
       "2012                             0.153846   0.163772  \n",
       "2013                             0.144638    0.21197  \n",
       "2014                             0.202797   0.170163  \n",
       "2015                             0.182365   0.180361  \n",
       "2016                             0.208748   0.196819  "
      ]
     },
     "execution_count": 8,
     "metadata": {},
     "output_type": "execute_result"
    }
   ],
   "source": [
    "df"
   ]
  },
  {
   "cell_type": "code",
   "execution_count": 9,
   "metadata": {
    "collapsed": true
   },
   "outputs": [],
   "source": [
    "df.to_csv(\"testing.csv\")"
   ]
  },
  {
   "cell_type": "code",
   "execution_count": null,
   "metadata": {
    "collapsed": true
   },
   "outputs": [],
   "source": []
  }
 ],
 "metadata": {
  "kernelspec": {
   "display_name": "Python 2",
   "language": "python",
   "name": "python2"
  },
  "language_info": {
   "codemirror_mode": {
    "name": "ipython",
    "version": 2
   },
   "file_extension": ".py",
   "mimetype": "text/x-python",
   "name": "python",
   "nbconvert_exporter": "python",
   "pygments_lexer": "ipython2",
   "version": "2.7.11"
  }
 },
 "nbformat": 4,
 "nbformat_minor": 2
}
