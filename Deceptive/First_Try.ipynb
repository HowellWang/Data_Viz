{
 "cells": [
  {
   "cell_type": "code",
   "execution_count": 1,
   "metadata": {
    "collapsed": true,
    "deletable": true,
    "editable": true
   },
   "outputs": [],
   "source": [
    "import pandas as pd\n",
    "import numpy as np\n",
    "import matplotlib.pyplot as plt\n",
    "%matplotlib inline\n",
    "import warnings\n",
    "warnings.filterwarnings('ignore')"
   ]
  },
  {
   "cell_type": "code",
   "execution_count": 2,
   "metadata": {
    "collapsed": true,
    "deletable": true,
    "editable": true
   },
   "outputs": [],
   "source": [
    "df = pd.read_excel(\"Washington2008-2017.xls\")"
   ]
  },
  {
   "cell_type": "code",
   "execution_count": 3,
   "metadata": {
    "collapsed": true,
    "deletable": true,
    "editable": true
   },
   "outputs": [],
   "source": [
    "df = df.ix[0:9, 0:10]\n",
    "d = dict()\n",
    "d[df.ix[2,0]] = df.ix[2, 1:10]\n",
    "d[df.ix[5,0]] = df.ix[5, 1:10]\n",
    "d[df.ix[7,0]] = df.ix[7, 1:10]\n",
    "d[df.ix[8,0]] = df.ix[8, 1:10]"
   ]
  },
  {
   "cell_type": "code",
   "execution_count": 4,
   "metadata": {
    "collapsed": true,
    "deletable": true,
    "editable": true
   },
   "outputs": [],
   "source": [
    "df = pd.DataFrame(data=d)\n",
    "df.index = list(range(9))\n",
    "df.index = df.index + 2008\n",
    "df.rename(columns=(lambda x: x.strip()), inplace=True)"
   ]
  },
  {
   "cell_type": "code",
   "execution_count": 5,
   "metadata": {
    "collapsed": true,
    "deletable": true,
    "editable": true
   },
   "outputs": [],
   "source": [
    "df1 = (df.ix[:,0:3].T / df.TOTAL).T"
   ]
  },
  {
   "cell_type": "code",
   "execution_count": 6,
   "metadata": {
    "collapsed": false,
    "deletable": true,
    "editable": true
   },
   "outputs": [
    {
     "data": {
      "text/html": [
       "<div>\n",
       "<style>\n",
       "    .dataframe thead tr:only-child th {\n",
       "        text-align: right;\n",
       "    }\n",
       "\n",
       "    .dataframe thead th {\n",
       "        text-align: left;\n",
       "    }\n",
       "\n",
       "    .dataframe tbody tr th {\n",
       "        vertical-align: top;\n",
       "    }\n",
       "</style>\n",
       "<table border=\"1\" class=\"dataframe\">\n",
       "  <thead>\n",
       "    <tr style=\"text-align: right;\">\n",
       "      <th></th>\n",
       "      <th>Drinking Driver-Involved</th>\n",
       "      <th>Drug Positive Driver-Involved**</th>\n",
       "      <th>Marijuana Positive Driver-Involved**</th>\n",
       "    </tr>\n",
       "  </thead>\n",
       "  <tbody>\n",
       "    <tr>\n",
       "      <th>2008</th>\n",
       "      <td>0.423237</td>\n",
       "      <td>0.29668</td>\n",
       "      <td>0.153527</td>\n",
       "    </tr>\n",
       "    <tr>\n",
       "      <th>2009</th>\n",
       "      <td>0.472406</td>\n",
       "      <td>0.313466</td>\n",
       "      <td>0.16777</td>\n",
       "    </tr>\n",
       "    <tr>\n",
       "      <th>2010</th>\n",
       "      <td>0.402844</td>\n",
       "      <td>0.334123</td>\n",
       "      <td>0.184834</td>\n",
       "    </tr>\n",
       "    <tr>\n",
       "      <th>2011</th>\n",
       "      <td>0.389549</td>\n",
       "      <td>0.273159</td>\n",
       "      <td>0.130641</td>\n",
       "    </tr>\n",
       "    <tr>\n",
       "      <th>2012</th>\n",
       "      <td>0.354839</td>\n",
       "      <td>0.317618</td>\n",
       "      <td>0.153846</td>\n",
       "    </tr>\n",
       "    <tr>\n",
       "      <th>2013</th>\n",
       "      <td>0.371571</td>\n",
       "      <td>0.356608</td>\n",
       "      <td>0.144638</td>\n",
       "    </tr>\n",
       "    <tr>\n",
       "      <th>2014</th>\n",
       "      <td>0.335664</td>\n",
       "      <td>0.37296</td>\n",
       "      <td>0.202797</td>\n",
       "    </tr>\n",
       "    <tr>\n",
       "      <th>2015</th>\n",
       "      <td>0.308617</td>\n",
       "      <td>0.362725</td>\n",
       "      <td>0.182365</td>\n",
       "    </tr>\n",
       "    <tr>\n",
       "      <th>2016</th>\n",
       "      <td>0.316103</td>\n",
       "      <td>0.405567</td>\n",
       "      <td>0.208748</td>\n",
       "    </tr>\n",
       "  </tbody>\n",
       "</table>\n",
       "</div>"
      ],
      "text/plain": [
       "     Drinking Driver-Involved Drug Positive Driver-Involved**  \\\n",
       "2008                 0.423237                         0.29668   \n",
       "2009                 0.472406                        0.313466   \n",
       "2010                 0.402844                        0.334123   \n",
       "2011                 0.389549                        0.273159   \n",
       "2012                 0.354839                        0.317618   \n",
       "2013                 0.371571                        0.356608   \n",
       "2014                 0.335664                         0.37296   \n",
       "2015                 0.308617                        0.362725   \n",
       "2016                 0.316103                        0.405567   \n",
       "\n",
       "     Marijuana Positive Driver-Involved**  \n",
       "2008                             0.153527  \n",
       "2009                              0.16777  \n",
       "2010                             0.184834  \n",
       "2011                             0.130641  \n",
       "2012                             0.153846  \n",
       "2013                             0.144638  \n",
       "2014                             0.202797  \n",
       "2015                             0.182365  \n",
       "2016                             0.208748  "
      ]
     },
     "execution_count": 6,
     "metadata": {},
     "output_type": "execute_result"
    }
   ],
   "source": [
    "df1"
   ]
  },
  {
   "cell_type": "code",
   "execution_count": 7,
   "metadata": {
    "collapsed": true,
    "deletable": true,
    "editable": true
   },
   "outputs": [],
   "source": [
    "df1['Other Drug'] = df1['Drug Positive Driver-Involved**'] - df1['Marijuana Positive Driver-Involved**']"
   ]
  },
  {
   "cell_type": "code",
   "execution_count": 8,
   "metadata": {
    "collapsed": false,
    "deletable": true,
    "editable": true
   },
   "outputs": [],
   "source": [
    "df1['Drinking Driver-Involved'] = (df1['Drinking Driver-Involved'] - df1['Drinking Driver-Involved'].shift(1)) / df1['Drinking Driver-Involved'].shift(1)\n",
    "\n",
    "df1['Drug Positive Driver-Involved**'] = (df1['Drug Positive Driver-Involved**'] - df1['Drug Positive Driver-Involved**'].shift(1)) / df1['Drug Positive Driver-Involved**'].shift(1)\n",
    "\n",
    "df1['Marijuana Positive Driver-Involved**'] = (df1['Marijuana Positive Driver-Involved**'] - df1['Marijuana Positive Driver-Involved**'].shift(1)) / df1['Marijuana Positive Driver-Involved**'].shift(1)\n",
    "\n",
    "df1['Other Drug'] = (df1['Other Drug'] - df1['Other Drug'].shift(1)) / df1['Other Drug'].shift(1)"
   ]
  },
  {
   "cell_type": "code",
   "execution_count": 9,
   "metadata": {
    "collapsed": true,
    "deletable": true,
    "editable": true
   },
   "outputs": [],
   "source": [
    "df1.to_csv(\"test1.csv\")"
   ]
  },
  {
   "cell_type": "code",
   "execution_count": null,
   "metadata": {
    "collapsed": true,
    "deletable": true,
    "editable": true
   },
   "outputs": [],
   "source": []
  }
 ],
 "metadata": {
  "kernelspec": {
   "display_name": "Python 2",
   "language": "python",
   "name": "python2"
  },
  "language_info": {
   "codemirror_mode": {
    "name": "ipython",
    "version": 2
   },
   "file_extension": ".py",
   "mimetype": "text/x-python",
   "name": "python",
   "nbconvert_exporter": "python",
   "pygments_lexer": "ipython2",
   "version": "2.7.11"
  }
 },
 "nbformat": 4,
 "nbformat_minor": 2
}
