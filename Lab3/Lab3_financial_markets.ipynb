{
 "cells": [
  {
   "cell_type": "markdown",
   "metadata": {},
   "source": [
    "# Invesetors Punish Equifax for Massive Data Breach\n",
    "# Final version link (Lab 3): https://goo.gl/QDtm5W\n",
    "# MSIS 2629 - Data Visualization\n",
    "# Submitted by: Yuhao Wang"
   ]
  },
  {
   "cell_type": "code",
   "execution_count": 4,
   "metadata": {
    "collapsed": false
   },
   "outputs": [],
   "source": [
    "import pandas as pd\n",
    "import numpy as np\n",
    "import matplotlib.pyplot as plt\n",
    "%matplotlib inline\n",
    "from fuzzywuzzy import fuzz\n",
    "from urllib2 import urlopen, URLError\n",
    "import warnings\n",
    "warnings.filterwarnings('ignore')"
   ]
  },
  {
   "cell_type": "code",
   "execution_count": 5,
   "metadata": {
    "collapsed": false,
    "scrolled": false
   },
   "outputs": [],
   "source": [
    "df = pd.read_csv(\"test.csv\")"
   ]
  },
  {
   "cell_type": "markdown",
   "metadata": {},
   "source": [
    "The Entity's name with '&' will have some negative influences on the web scraping. I decide to deal with it firstly."
   ]
  },
  {
   "cell_type": "code",
   "execution_count": 6,
   "metadata": {
    "collapsed": true
   },
   "outputs": [],
   "source": [
    "df['Entity'][df.Entity == 'AT&T'] = 'ATT'\n",
    "df['Entity'][df.Entity == 'D&B, Altegrity'] = 'Altegrity'"
   ]
  },
  {
   "cell_type": "code",
   "execution_count": 7,
   "metadata": {
    "collapsed": false,
    "scrolled": false
   },
   "outputs": [],
   "source": [
    "helper = df.Entity\n",
    "helper = list(helper)"
   ]
  },
  {
   "cell_type": "markdown",
   "metadata": {},
   "source": [
    "Web Scraping"
   ]
  },
  {
   "cell_type": "code",
   "execution_count": 8,
   "metadata": {
    "collapsed": false,
    "scrolled": false
   },
   "outputs": [],
   "source": [
    "res = []\n",
    "for i in helper:\n",
    "    url = 'http://d.yimg.com/autoc.finance.yahoo.com/autoc?query=' + '%20'.join(i.split(' ')) + '&region=1&lang=en'\n",
    "    #print url\n",
    "    resp = urlopen(url)\n",
    "    s = resp.read()\n",
    "    res.append(s)"
   ]
  },
  {
   "cell_type": "markdown",
   "metadata": {},
   "source": [
    "Change string to json, and skip the useless rows(private company or non-profit organization)"
   ]
  },
  {
   "cell_type": "code",
   "execution_count": 9,
   "metadata": {
    "collapsed": false,
    "scrolled": false
   },
   "outputs": [
    {
     "data": {
      "text/plain": [
       "['{\"ResultSet\":{\"Query\":\"AOL\",\"Result\":[{\"symbol\":\"AOL-U.TI\",\"name\":\"TIME WARNER\",\"exch\":\"TLO\",\"type\":\"S\",\"exchDisp\":\"TLX Exchange\",\"typeDisp\":\"Equity\"},{\"symbol\":\"AOLS\",\"name\":\"Aeolus Pharmaceuticals, Inc.\",\"exch\":\"PNK\",\"type\":\"S\",\"exchDisp\":\"OTC Markets\",\"typeDisp\":\"Equity\"},{\"symbol\":\"AOL1.F\",\"name\":\"Time Warner Inc.\",\"exch\":\"FRA\",\"type\":\"S\",\"exchDisp\":\"Frankfurt\",\"typeDisp\":\"Equity\"},{\"symbol\":\"AOLAX\",\"name\":\"Forward Income & Growth Allocat\",\"exch\":\"NAS\",\"type\":\"M\",\"exchDisp\":\"NASDAQ\",\"typeDisp\":\"Fund\"},{\"symbol\":\"AOLCX\",\"name\":\"Aston/Optimum Large Cap Opportunity N\",\"exch\":\"NAS\",\"type\":\"M\",\"exchDisp\":\"NASDAQ\",\"typeDisp\":\"Fund\"},{\"symbol\":\"AOL.SI\",\"name\":\"Biosensors.ES.1502future\",\"exch\":\"SES\",\"type\":\"F\",\"exchDisp\":\"Singapore\",\"typeDisp\":\"Futures\"},{\"symbol\":\"AOL1.BE\",\"name\":\"TIME WARNER NEW  DL-,01\",\"exch\":\"BER\",\"type\":\"S\",\"exchDisp\":\"Berlin\",\"typeDisp\":\"Equity\"},{\"symbol\":\"AOL1.DE\",\"name\":\"TIME WARNER NEW  DL-,01\",\"exch\":\"FRA\",\"type\":\"S\",\"exchDisp\":\"Frankfurt\",\"typeDisp\":\"Equity\"},{\"symbol\":\"AOL1.DU\",\"name\":\"TIME WARNER NEW  DL-,01\",\"exch\":\"DUS\",\"type\":\"S\",\"exchDisp\":\"Dusseldorf Stock Exchange\",\"typeDisp\":\"Equity\"},{\"symbol\":\"AOL1.HA\",\"name\":\"TIME WARNER NEW  DL-,01\",\"exch\":\"HAN\",\"type\":\"S\",\"exchDisp\":\"Hanover\",\"typeDisp\":\"Equity\"}]}}',\n",
       " '{\"ResultSet\":{\"Query\":\"ADP\",\"Result\":[{\"symbol\":\"ADP\",\"name\":\"Automatic Data Processing, Inc.\",\"exch\":\"NMS\",\"type\":\"S\",\"exchDisp\":\"NASDAQ\",\"typeDisp\":\"Equity\"},{\"symbol\":\"ADPTQ\",\"name\":\"Adeptus Health Inc.\",\"exch\":\"PNK\",\"type\":\"S\",\"exchDisp\":\"OTC Markets\",\"typeDisp\":\"Equity\"},{\"symbol\":\"ADPT\",\"name\":\"Adeptus Health Inc.\",\"exch\":\"NYQ\",\"type\":\"S\",\"exchDisp\":\"NYSE\",\"typeDisp\":\"Equity\"},{\"symbol\":\"ADP.PA\",\"name\":\"A\\xc3\\xa9roports de Paris SA\",\"exch\":\"ENX\",\"type\":\"S\",\"exchDisp\":\"Euronext\",\"typeDisp\":\"Equity\"},{\"symbol\":\"ADPCX\",\"name\":\"AB Short Duration C\",\"exch\":\"NAS\",\"type\":\"M\",\"exchDisp\":\"NASDAQ\",\"typeDisp\":\"Fund\"},{\"symbol\":\"ADPAS\",\"name\":\"Adelphia Recovery Trust\",\"exch\":\"PNK\",\"type\":\"S\",\"exchDisp\":\"OTC Markets\",\"typeDisp\":\"Equity\"},{\"symbol\":\"ADP171117C00120000\",\"name\":\"ADP Nov 2017 call 120.000\",\"exch\":\"OPR\",\"type\":\"O\",\"exchDisp\":\"OPR\",\"typeDisp\":\"Option\"},{\"symbol\":\"ADP171027P00105000\",\"name\":\"ADP Oct 2017 put 105.000\",\"exch\":\"OPR\",\"type\":\"O\",\"exchDisp\":\"OPR\",\"typeDisp\":\"Option\"},{\"symbol\":\"ADPN.MX\",\"name\":\"A\\xc3\\xa9roports de Paris SA\",\"exch\":\"MEX\",\"type\":\"S\",\"exchDisp\":\"Mexico\",\"typeDisp\":\"Equity\"},{\"symbol\":\"ADP190118P00082500\",\"name\":\"ADP Jan 2019 put 82.500\",\"exch\":\"OPR\",\"type\":\"O\",\"exchDisp\":\"OPR\",\"typeDisp\":\"Option\"}]}}',\n",
       " '',\n",
       " '{\"ResultSet\":{\"Query\":\"Citigroup\",\"Result\":[{\"symbol\":\"CIT-U.TI\",\"name\":\"CITIGROUP\",\"exch\":\"TLO\",\"type\":\"S\",\"exchDisp\":\"TLX Exchange\",\"typeDisp\":\"Equity\"},{\"symbol\":\"C\",\"name\":\"Citigroup Inc.\",\"exch\":\"NYQ\",\"type\":\"S\",\"exchDisp\":\"NYSE\",\"typeDisp\":\"Equity\"},{\"symbol\":\"C-PN\",\"name\":\"Citigroup Capital XIII\",\"exch\":\"NYQ\",\"type\":\"S\",\"exchDisp\":\"NYSE\",\"typeDisp\":\"Equity\"},{\"symbol\":\"C-PL\",\"name\":\"Citigroup Inc.\",\"exch\":\"NYQ\",\"type\":\"S\",\"exchDisp\":\"NYSE\",\"typeDisp\":\"Equity\"},{\"symbol\":\"C.MX\",\"name\":\"Citigroup Inc.\",\"exch\":\"MEX\",\"type\":\"S\",\"exchDisp\":\"Mexico\",\"typeDisp\":\"Equity\"},{\"symbol\":\"C-PC\",\"name\":\"Citigroup Inc.\",\"exch\":\"NYQ\",\"type\":\"S\",\"exchDisp\":\"NYSE\",\"typeDisp\":\"Equity\"},{\"symbol\":\"C-PK\",\"name\":\"Citigroup Inc. Dep Shs Repstg 1\",\"exch\":\"NYQ\",\"type\":\"S\",\"exchDisp\":\"NYSE\",\"typeDisp\":\"Equity\"},{\"symbol\":\"C-PP\",\"name\":\"Citigroup Inc.\",\"exch\":\"NYQ\",\"type\":\"S\",\"exchDisp\":\"NYSE\",\"typeDisp\":\"Equity\"},{\"symbol\":\"C-PJ\",\"name\":\"Citigroup Inc.\",\"exch\":\"NYQ\",\"type\":\"S\",\"exchDisp\":\"NYSE\",\"typeDisp\":\"Equity\"},{\"symbol\":\"C-PS\",\"name\":\"Citigroup Inc.\",\"exch\":\"NYQ\",\"type\":\"S\",\"exchDisp\":\"NYSE\",\"typeDisp\":\"Equity\"}]}}',\n",
       " '',\n",
       " '{\"ResultSet\":{\"Query\":\"HPQ\",\"Result\":[{\"symbol\":\"HPQ\",\"name\":\"HP Inc.\",\"exch\":\"NYQ\",\"type\":\"S\",\"exchDisp\":\"NYSE\",\"typeDisp\":\"Equity\"},{\"symbol\":\"HPQFF8.EX\",\"name\":\"Hewlett-Packard Co.future\",\"exch\":\"EUX\",\"type\":\"F\",\"exchDisp\":\"EUREX Futures and Options Exchange\",\"typeDisp\":\"Futures\"},{\"symbol\":\"HPQ.V\",\"name\":\"HPQ Silicon Resources Inc.\",\"exch\":\"VAN\",\"type\":\"S\",\"exchDisp\":\"CDNX\",\"typeDisp\":\"Equity\"},{\"symbol\":\"URAGF\",\"name\":\"HPQ Silicon Resources Inc.\",\"exch\":\"PNK\",\"type\":\"S\",\"exchDisp\":\"OTC Markets\",\"typeDisp\":\"Equity\"},{\"symbol\":\"HPQB34.SA\",\"name\":\"HP Inc.\",\"exch\":\"SAO\",\"type\":\"S\",\"exchDisp\":\"Sao Paolo\",\"typeDisp\":\"Equity\"},{\"symbol\":\"HPQ171013C00014000\",\"name\":\"HPQ Oct 2017 call 14.000\",\"exch\":\"OPR\",\"type\":\"O\",\"exchDisp\":\"OPR\",\"typeDisp\":\"Option\"},{\"symbol\":\"HPQ171117P00020000\",\"name\":\"HPQ Nov 2017 put 20.000\",\"exch\":\"OPR\",\"type\":\"O\",\"exchDisp\":\"OPR\",\"typeDisp\":\"Option\"},{\"symbol\":\"HPQ.BA\",\"name\":\"HP Inc.\",\"exch\":\"BUE\",\"type\":\"S\",\"exchDisp\":\"Buenos Aires\",\"typeDisp\":\"Equity\"},{\"symbol\":\"HPQ180119C00035000\",\"name\":\"HPQ Jan 2018 call 35.000\",\"exch\":\"OPR\",\"type\":\"O\",\"exchDisp\":\"OPR\",\"typeDisp\":\"Option\"},{\"symbol\":\"HPQ171006C00020000\",\"name\":\"HPQ Oct 2017 call 20.000\",\"exch\":\"OPR\",\"type\":\"O\",\"exchDisp\":\"OPR\",\"typeDisp\":\"Option\"}]}}',\n",
       " '',\n",
       " '{\"ResultSet\":{\"Query\":\"KDDI\",\"Result\":[{\"symbol\":\"KDDIY\",\"name\":\"KDDI Corporation\",\"exch\":\"PNK\",\"type\":\"S\",\"exchDisp\":\"OTC Markets\",\"typeDisp\":\"Equity\"},{\"symbol\":\"KDDIF\",\"name\":\"KDDI Corporation\",\"exch\":\"PNK\",\"type\":\"S\",\"exchDisp\":\"OTC Markets\",\"typeDisp\":\"Equity\"},{\"symbol\":\"DIP.SG\",\"name\":\"KDDI CORP. Registered Shares o.\",\"exch\":\"STU\",\"type\":\"S\",\"exchDisp\":\"Stuttgart\",\"typeDisp\":\"Equity\"},{\"symbol\":\"DIP.DU\",\"name\":\"KDDI CORP.\",\"exch\":\"DUS\",\"type\":\"S\",\"exchDisp\":\"Dusseldorf Stock Exchange\",\"typeDisp\":\"Equity\"},{\"symbol\":\"DIP.F\",\"name\":\"KDDI Corporation\",\"exch\":\"FRA\",\"type\":\"S\",\"exchDisp\":\"Frankfurt\",\"typeDisp\":\"Equity\"},{\"symbol\":\"DIP.BE\",\"name\":\"KDDI CORP.\",\"exch\":\"BER\",\"type\":\"S\",\"exchDisp\":\"Berlin\",\"typeDisp\":\"Equity\"},{\"symbol\":\"DIP.MU\",\"name\":\"KDDI CORP.\",\"exch\":\"MUN\",\"type\":\"S\",\"exchDisp\":\"Munich\",\"typeDisp\":\"Equity\"}]}}',\n",
       " '',\n",
       " '{\"ResultSet\":{\"Query\":\"AOL\",\"Result\":[{\"symbol\":\"AOL-U.TI\",\"name\":\"TIME WARNER\",\"exch\":\"TLO\",\"type\":\"S\",\"exchDisp\":\"TLX Exchange\",\"typeDisp\":\"Equity\"},{\"symbol\":\"AOLS\",\"name\":\"Aeolus Pharmaceuticals, Inc.\",\"exch\":\"PNK\",\"type\":\"S\",\"exchDisp\":\"OTC Markets\",\"typeDisp\":\"Equity\"},{\"symbol\":\"AOL1.F\",\"name\":\"Time Warner Inc.\",\"exch\":\"FRA\",\"type\":\"S\",\"exchDisp\":\"Frankfurt\",\"typeDisp\":\"Equity\"},{\"symbol\":\"AOLAX\",\"name\":\"Forward Income & Growth Allocat\",\"exch\":\"NAS\",\"type\":\"M\",\"exchDisp\":\"NASDAQ\",\"typeDisp\":\"Fund\"},{\"symbol\":\"AOLCX\",\"name\":\"Aston/Optimum Large Cap Opportunity N\",\"exch\":\"NAS\",\"type\":\"M\",\"exchDisp\":\"NASDAQ\",\"typeDisp\":\"Fund\"},{\"symbol\":\"AOL.SI\",\"name\":\"Biosensors.ES.1502future\",\"exch\":\"SES\",\"type\":\"F\",\"exchDisp\":\"Singapore\",\"typeDisp\":\"Futures\"},{\"symbol\":\"AOL1.BE\",\"name\":\"TIME WARNER NEW  DL-,01\",\"exch\":\"BER\",\"type\":\"S\",\"exchDisp\":\"Berlin\",\"typeDisp\":\"Equity\"},{\"symbol\":\"AOL1.DE\",\"name\":\"TIME WARNER NEW  DL-,01\",\"exch\":\"FRA\",\"type\":\"S\",\"exchDisp\":\"Frankfurt\",\"typeDisp\":\"Equity\"},{\"symbol\":\"AOL1.DU\",\"name\":\"TIME WARNER NEW  DL-,01\",\"exch\":\"DUS\",\"type\":\"S\",\"exchDisp\":\"Dusseldorf Stock Exchange\",\"typeDisp\":\"Equity\"},{\"symbol\":\"AOL1.HA\",\"name\":\"TIME WARNER NEW  DL-,01\",\"exch\":\"HAN\",\"type\":\"S\",\"exchDisp\":\"Hanover\",\"typeDisp\":\"Equity\"}]}}']"
      ]
     },
     "execution_count": 9,
     "metadata": {},
     "output_type": "execute_result"
    }
   ],
   "source": [
    "import json\n",
    "for i in range(0,len(res)):\n",
    "    j = json.loads(res[i])\n",
    "    if j['ResultSet']['Result'] == []:\n",
    "        res[i] = ''\n",
    "res[:10]  "
   ]
  },
  {
   "cell_type": "markdown",
   "metadata": {},
   "source": [
    "Further check, use fuzzwuzzy to regonize match Entity's name and stock symbol"
   ]
  },
  {
   "cell_type": "code",
   "execution_count": 10,
   "metadata": {
    "collapsed": false
   },
   "outputs": [],
   "source": [
    "df['Raw_Symbol'] = res\n",
    "df = df[df.Raw_Symbol != '']\n",
    "df = df.reset_index()\n",
    "df = df.ix[:,1:8]"
   ]
  },
  {
   "cell_type": "code",
   "execution_count": 11,
   "metadata": {
    "collapsed": false,
    "scrolled": false
   },
   "outputs": [],
   "source": [
    "for i in range(0, len(df.Raw_Symbol)):\n",
    "    if fuzz.partial_ratio(df.Entity[i], df.Raw_Symbol[i][28:]) <= 0:\n",
    "        df.Raw_Symbol[i] = ''\n",
    "df = df[df.Raw_Symbol != '']\n",
    "df = df.reset_index()\n",
    "df = df.ix[:,1:8]"
   ]
  },
  {
   "cell_type": "code",
   "execution_count": 12,
   "metadata": {
    "collapsed": false
   },
   "outputs": [],
   "source": [
    "for i in range(0, len(df.Raw_Symbol)):\n",
    "    j = json.loads(df.Raw_Symbol[i])\n",
    "    helper = j['ResultSet']['Result']\n",
    "    for h in range(0, len(helper)):\n",
    "        if fuzz.partial_ratio(df.Entity[i], helper[h]):\n",
    "            df.Raw_Symbol[i] = helper[0]['symbol']"
   ]
  },
  {
   "cell_type": "markdown",
   "metadata": {},
   "source": [
    "Double check"
   ]
  },
  {
   "cell_type": "code",
   "execution_count": 13,
   "metadata": {
    "collapsed": false
   },
   "outputs": [
    {
     "data": {
      "text/html": [
       "<div>\n",
       "<style>\n",
       "    .dataframe thead tr:only-child th {\n",
       "        text-align: right;\n",
       "    }\n",
       "\n",
       "    .dataframe thead th {\n",
       "        text-align: left;\n",
       "    }\n",
       "\n",
       "    .dataframe tbody tr th {\n",
       "        vertical-align: top;\n",
       "    }\n",
       "</style>\n",
       "<table border=\"1\" class=\"dataframe\">\n",
       "  <thead>\n",
       "    <tr style=\"text-align: right;\">\n",
       "      <th></th>\n",
       "      <th>Entity</th>\n",
       "      <th>YEAR</th>\n",
       "      <th>records lost</th>\n",
       "      <th>ORGANISATION</th>\n",
       "      <th>METHOD OF LEAK</th>\n",
       "      <th>DATA SENSITIVITY</th>\n",
       "      <th>Raw_Symbol</th>\n",
       "    </tr>\n",
       "  </thead>\n",
       "  <tbody>\n",
       "    <tr>\n",
       "      <th>0</th>\n",
       "      <td>Automatic Data Processing</td>\n",
       "      <td>2005</td>\n",
       "      <td>125000</td>\n",
       "      <td>financial</td>\n",
       "      <td>poor security</td>\n",
       "      <td>SSN/Personal details</td>\n",
       "      <td>ADP</td>\n",
       "    </tr>\n",
       "    <tr>\n",
       "      <th>1</th>\n",
       "      <td>Citigroup</td>\n",
       "      <td>2005</td>\n",
       "      <td>3900000</td>\n",
       "      <td>financial</td>\n",
       "      <td>lost / stolen device</td>\n",
       "      <td>Credit card information</td>\n",
       "      <td>CIT-U.TI</td>\n",
       "    </tr>\n",
       "    <tr>\n",
       "      <th>2</th>\n",
       "      <td>Hewlett Packard</td>\n",
       "      <td>2006</td>\n",
       "      <td>200000</td>\n",
       "      <td>tech, retail</td>\n",
       "      <td>lost / stolen device</td>\n",
       "      <td>SSN/Personal details</td>\n",
       "      <td>HPQ</td>\n",
       "    </tr>\n",
       "    <tr>\n",
       "      <th>3</th>\n",
       "      <td>Gap Inc</td>\n",
       "      <td>2007</td>\n",
       "      <td>800000</td>\n",
       "      <td>retail</td>\n",
       "      <td>lost / stolen device</td>\n",
       "      <td>SSN/Personal details</td>\n",
       "      <td>GPS</td>\n",
       "    </tr>\n",
       "    <tr>\n",
       "      <th>4</th>\n",
       "      <td>TD Ameritrade</td>\n",
       "      <td>2007</td>\n",
       "      <td>6300000</td>\n",
       "      <td>financial</td>\n",
       "      <td>hacked</td>\n",
       "      <td>Just email address/Online information</td>\n",
       "      <td>AMTD</td>\n",
       "    </tr>\n",
       "    <tr>\n",
       "      <th>5</th>\n",
       "      <td>Fidelity National Information Services</td>\n",
       "      <td>2007</td>\n",
       "      <td>8500000</td>\n",
       "      <td>financial</td>\n",
       "      <td>inside job</td>\n",
       "      <td>Credit card information</td>\n",
       "      <td>FIS</td>\n",
       "    </tr>\n",
       "    <tr>\n",
       "      <th>6</th>\n",
       "      <td>Dai Nippon Printing</td>\n",
       "      <td>2007</td>\n",
       "      <td>8637405</td>\n",
       "      <td>retail</td>\n",
       "      <td>inside job</td>\n",
       "      <td>Just email address/Online information</td>\n",
       "      <td>DNPCF</td>\n",
       "    </tr>\n",
       "    <tr>\n",
       "      <th>7</th>\n",
       "      <td>ATT</td>\n",
       "      <td>2008</td>\n",
       "      <td>113000</td>\n",
       "      <td>telecoms</td>\n",
       "      <td>lost / stolen device</td>\n",
       "      <td>Just email address/Online information</td>\n",
       "      <td>T</td>\n",
       "    </tr>\n",
       "    <tr>\n",
       "      <th>8</th>\n",
       "      <td>Starbucks</td>\n",
       "      <td>2008</td>\n",
       "      <td>97000</td>\n",
       "      <td>retail</td>\n",
       "      <td>lost / stolen device</td>\n",
       "      <td>SSN/Personal details</td>\n",
       "      <td>SBUX</td>\n",
       "    </tr>\n",
       "    <tr>\n",
       "      <th>9</th>\n",
       "      <td>Network Solutions</td>\n",
       "      <td>2009</td>\n",
       "      <td>573000</td>\n",
       "      <td>tech</td>\n",
       "      <td>hacked</td>\n",
       "      <td>Credit card information</td>\n",
       "      <td>LYNS</td>\n",
       "    </tr>\n",
       "    <tr>\n",
       "      <th>10</th>\n",
       "      <td>Health Net</td>\n",
       "      <td>2009</td>\n",
       "      <td>1500000</td>\n",
       "      <td>healthcare</td>\n",
       "      <td>lost / stolen device</td>\n",
       "      <td>Email password/Health records</td>\n",
       "      <td>IGRW</td>\n",
       "    </tr>\n",
       "    <tr>\n",
       "      <th>11</th>\n",
       "      <td>Heartland</td>\n",
       "      <td>2009</td>\n",
       "      <td>130000000</td>\n",
       "      <td>financial</td>\n",
       "      <td>hacked</td>\n",
       "      <td>Credit card information</td>\n",
       "      <td>HTLD</td>\n",
       "    </tr>\n",
       "    <tr>\n",
       "      <th>12</th>\n",
       "      <td>ATT</td>\n",
       "      <td>2010</td>\n",
       "      <td>114000</td>\n",
       "      <td>telecoms</td>\n",
       "      <td>hacked</td>\n",
       "      <td>Just email address/Online information</td>\n",
       "      <td>T</td>\n",
       "    </tr>\n",
       "    <tr>\n",
       "      <th>13</th>\n",
       "      <td>Betfair</td>\n",
       "      <td>2010</td>\n",
       "      <td>2300000</td>\n",
       "      <td>web</td>\n",
       "      <td>hacked</td>\n",
       "      <td>Credit card information</td>\n",
       "      <td>PPB.L</td>\n",
       "    </tr>\n",
       "    <tr>\n",
       "      <th>14</th>\n",
       "      <td>JP Morgan Chase</td>\n",
       "      <td>2010</td>\n",
       "      <td>2600000</td>\n",
       "      <td>financial</td>\n",
       "      <td>lost / stolen device</td>\n",
       "      <td>Credit card information</td>\n",
       "      <td>JPM-PB</td>\n",
       "    </tr>\n",
       "    <tr>\n",
       "      <th>15</th>\n",
       "      <td>Citigroup</td>\n",
       "      <td>2011</td>\n",
       "      <td>360083</td>\n",
       "      <td>financial</td>\n",
       "      <td>hacked</td>\n",
       "      <td>Credit card information</td>\n",
       "      <td>CIT-U.TI</td>\n",
       "    </tr>\n",
       "    <tr>\n",
       "      <th>16</th>\n",
       "      <td>Global Payments</td>\n",
       "      <td>2012</td>\n",
       "      <td>7000000</td>\n",
       "      <td>financial</td>\n",
       "      <td>hacked</td>\n",
       "      <td>Credit card information</td>\n",
       "      <td>GPN</td>\n",
       "    </tr>\n",
       "    <tr>\n",
       "      <th>17</th>\n",
       "      <td>KT Corp.</td>\n",
       "      <td>2012</td>\n",
       "      <td>8700000</td>\n",
       "      <td>telecoms</td>\n",
       "      <td>hacked</td>\n",
       "      <td>SSN/Personal details</td>\n",
       "      <td>KTC.DU</td>\n",
       "    </tr>\n",
       "    <tr>\n",
       "      <th>18</th>\n",
       "      <td>Blizzard</td>\n",
       "      <td>2012</td>\n",
       "      <td>14000000</td>\n",
       "      <td>gaming</td>\n",
       "      <td>hacked</td>\n",
       "      <td>SSN/Personal details</td>\n",
       "      <td>ATVI</td>\n",
       "    </tr>\n",
       "    <tr>\n",
       "      <th>19</th>\n",
       "      <td>Court Ventures</td>\n",
       "      <td>2012</td>\n",
       "      <td>200000000</td>\n",
       "      <td>financial</td>\n",
       "      <td>inside job</td>\n",
       "      <td>SSN/Personal details</td>\n",
       "      <td>KCT.V</td>\n",
       "    </tr>\n",
       "    <tr>\n",
       "      <th>20</th>\n",
       "      <td>Citigroup</td>\n",
       "      <td>2013</td>\n",
       "      <td>150000</td>\n",
       "      <td>financial</td>\n",
       "      <td>accidentally published</td>\n",
       "      <td>SSN/Personal details</td>\n",
       "      <td>CIT-U.TI</td>\n",
       "    </tr>\n",
       "    <tr>\n",
       "      <th>21</th>\n",
       "      <td>TerraCom &amp; YourTel</td>\n",
       "      <td>2013</td>\n",
       "      <td>170000</td>\n",
       "      <td>telecoms</td>\n",
       "      <td>accidentally published</td>\n",
       "      <td>SSN/Personal details</td>\n",
       "      <td>2GF.F</td>\n",
       "    </tr>\n",
       "    <tr>\n",
       "      <th>22</th>\n",
       "      <td>Nintendo</td>\n",
       "      <td>2013</td>\n",
       "      <td>240000</td>\n",
       "      <td>gaming</td>\n",
       "      <td>hacked</td>\n",
       "      <td>SSN/Personal details</td>\n",
       "      <td>NTDOY</td>\n",
       "    </tr>\n",
       "    <tr>\n",
       "      <th>23</th>\n",
       "      <td>Twitter</td>\n",
       "      <td>2013</td>\n",
       "      <td>250000</td>\n",
       "      <td>web</td>\n",
       "      <td>hacked</td>\n",
       "      <td>Just email address/Online information</td>\n",
       "      <td>TWTR</td>\n",
       "    </tr>\n",
       "    <tr>\n",
       "      <th>24</th>\n",
       "      <td>NMBS</td>\n",
       "      <td>2013</td>\n",
       "      <td>1460000</td>\n",
       "      <td>transport</td>\n",
       "      <td>accidentally published</td>\n",
       "      <td>SSN/Personal details</td>\n",
       "      <td>NMBS.KL</td>\n",
       "    </tr>\n",
       "    <tr>\n",
       "      <th>25</th>\n",
       "      <td>Vodafone</td>\n",
       "      <td>2013</td>\n",
       "      <td>2000000</td>\n",
       "      <td>telecoms</td>\n",
       "      <td>inside job</td>\n",
       "      <td>Credit card information</td>\n",
       "      <td>VOD</td>\n",
       "    </tr>\n",
       "    <tr>\n",
       "      <th>26</th>\n",
       "      <td>Facebook</td>\n",
       "      <td>2013</td>\n",
       "      <td>6000000</td>\n",
       "      <td>web</td>\n",
       "      <td>accidentally published</td>\n",
       "      <td>Just email address/Online information</td>\n",
       "      <td>FB</td>\n",
       "    </tr>\n",
       "    <tr>\n",
       "      <th>27</th>\n",
       "      <td>Adobe</td>\n",
       "      <td>2013</td>\n",
       "      <td>36000000</td>\n",
       "      <td>tech</td>\n",
       "      <td>hacked</td>\n",
       "      <td>Full bank account details</td>\n",
       "      <td>ADBE</td>\n",
       "    </tr>\n",
       "    <tr>\n",
       "      <th>28</th>\n",
       "      <td>NASDAQ</td>\n",
       "      <td>2014</td>\n",
       "      <td>500000</td>\n",
       "      <td>financial</td>\n",
       "      <td>hacked</td>\n",
       "      <td>Just email address/Online information</td>\n",
       "      <td>NDAQ</td>\n",
       "    </tr>\n",
       "    <tr>\n",
       "      <th>29</th>\n",
       "      <td>Japan Airlines</td>\n",
       "      <td>2014</td>\n",
       "      <td>750000</td>\n",
       "      <td>transport</td>\n",
       "      <td>hacked</td>\n",
       "      <td>SSN/Personal details</td>\n",
       "      <td>JAPSY</td>\n",
       "    </tr>\n",
       "    <tr>\n",
       "      <th>30</th>\n",
       "      <td>Community Health Systems</td>\n",
       "      <td>2014</td>\n",
       "      <td>4500000</td>\n",
       "      <td>healthcare</td>\n",
       "      <td>hacked</td>\n",
       "      <td>SSN/Personal details</td>\n",
       "      <td>CYH</td>\n",
       "    </tr>\n",
       "    <tr>\n",
       "      <th>31</th>\n",
       "      <td>Target</td>\n",
       "      <td>2014</td>\n",
       "      <td>70000000</td>\n",
       "      <td>retail</td>\n",
       "      <td>hacked</td>\n",
       "      <td>Credit card information</td>\n",
       "      <td>TGT</td>\n",
       "    </tr>\n",
       "    <tr>\n",
       "      <th>32</th>\n",
       "      <td>JP Morgan Chase</td>\n",
       "      <td>2014</td>\n",
       "      <td>76000000</td>\n",
       "      <td>financial</td>\n",
       "      <td>hacked</td>\n",
       "      <td>Credit card information</td>\n",
       "      <td>JPM-PB</td>\n",
       "    </tr>\n",
       "    <tr>\n",
       "      <th>33</th>\n",
       "      <td>Ebay</td>\n",
       "      <td>2014</td>\n",
       "      <td>145000000</td>\n",
       "      <td>web</td>\n",
       "      <td>hacked</td>\n",
       "      <td>Just email address/Online information</td>\n",
       "      <td>EBAY</td>\n",
       "    </tr>\n",
       "    <tr>\n",
       "      <th>34</th>\n",
       "      <td>MSpy</td>\n",
       "      <td>2015</td>\n",
       "      <td>400000</td>\n",
       "      <td>tech</td>\n",
       "      <td>hacked</td>\n",
       "      <td>SSN/Personal details</td>\n",
       "      <td>MSPYX</td>\n",
       "    </tr>\n",
       "    <tr>\n",
       "      <th>35</th>\n",
       "      <td>CarPhone Warehouse</td>\n",
       "      <td>2015</td>\n",
       "      <td>2700000</td>\n",
       "      <td>web</td>\n",
       "      <td>hacked</td>\n",
       "      <td>Full bank account details</td>\n",
       "      <td>CPWFF8.EX</td>\n",
       "    </tr>\n",
       "    <tr>\n",
       "      <th>36</th>\n",
       "      <td>Fling</td>\n",
       "      <td>2016</td>\n",
       "      <td>40000000</td>\n",
       "      <td>web</td>\n",
       "      <td>hacked</td>\n",
       "      <td>Email password/Health records</td>\n",
       "      <td>FLINGX</td>\n",
       "    </tr>\n",
       "    <tr>\n",
       "      <th>37</th>\n",
       "      <td>Anthem</td>\n",
       "      <td>2016</td>\n",
       "      <td>80000000</td>\n",
       "      <td>healthcare</td>\n",
       "      <td>hacked</td>\n",
       "      <td>SSN/Personal details</td>\n",
       "      <td>ANTM</td>\n",
       "    </tr>\n",
       "    <tr>\n",
       "      <th>38</th>\n",
       "      <td>Quest Diagnostics</td>\n",
       "      <td>2017</td>\n",
       "      <td>34000</td>\n",
       "      <td>healthcare</td>\n",
       "      <td>hacked</td>\n",
       "      <td>Email password/Health records</td>\n",
       "      <td>DGX</td>\n",
       "    </tr>\n",
       "    <tr>\n",
       "      <th>39</th>\n",
       "      <td>Interpark</td>\n",
       "      <td>2017</td>\n",
       "      <td>10000000</td>\n",
       "      <td>web</td>\n",
       "      <td>hacked</td>\n",
       "      <td>SSN/Personal details</td>\n",
       "      <td>035080.KQ</td>\n",
       "    </tr>\n",
       "    <tr>\n",
       "      <th>40</th>\n",
       "      <td>Equifax</td>\n",
       "      <td>2017</td>\n",
       "      <td>143000000</td>\n",
       "      <td>financial</td>\n",
       "      <td>hacked</td>\n",
       "      <td>Full bank account details</td>\n",
       "      <td>EFX</td>\n",
       "    </tr>\n",
       "  </tbody>\n",
       "</table>\n",
       "</div>"
      ],
      "text/plain": [
       "                                    Entity  YEAR  records lost  ORGANISATION  \\\n",
       "0                Automatic Data Processing  2005        125000     financial   \n",
       "1                                Citigroup  2005       3900000     financial   \n",
       "2                          Hewlett Packard  2006        200000  tech, retail   \n",
       "3                                  Gap Inc  2007        800000        retail   \n",
       "4                            TD Ameritrade  2007       6300000     financial   \n",
       "5   Fidelity National Information Services  2007       8500000     financial   \n",
       "6                      Dai Nippon Printing  2007       8637405        retail   \n",
       "7                                      ATT  2008        113000      telecoms   \n",
       "8                                Starbucks  2008         97000        retail   \n",
       "9                        Network Solutions  2009        573000          tech   \n",
       "10                             Health Net   2009       1500000    healthcare   \n",
       "11                               Heartland  2009     130000000     financial   \n",
       "12                                     ATT  2010        114000      telecoms   \n",
       "13                                 Betfair  2010       2300000           web   \n",
       "14                         JP Morgan Chase  2010       2600000     financial   \n",
       "15                               Citigroup  2011        360083     financial   \n",
       "16                         Global Payments  2012       7000000     financial   \n",
       "17                                KT Corp.  2012       8700000      telecoms   \n",
       "18                                Blizzard  2012      14000000        gaming   \n",
       "19                          Court Ventures  2012     200000000     financial   \n",
       "20                               Citigroup  2013        150000     financial   \n",
       "21                      TerraCom & YourTel  2013        170000      telecoms   \n",
       "22                                Nintendo  2013        240000        gaming   \n",
       "23                                 Twitter  2013        250000           web   \n",
       "24                                    NMBS  2013       1460000     transport   \n",
       "25                                Vodafone  2013       2000000      telecoms   \n",
       "26                                Facebook  2013       6000000           web   \n",
       "27                                   Adobe  2013      36000000          tech   \n",
       "28                                  NASDAQ  2014        500000     financial   \n",
       "29                          Japan Airlines  2014        750000     transport   \n",
       "30                Community Health Systems  2014       4500000    healthcare   \n",
       "31                                  Target  2014      70000000        retail   \n",
       "32                         JP Morgan Chase  2014      76000000     financial   \n",
       "33                                    Ebay  2014     145000000           web   \n",
       "34                                    MSpy  2015        400000          tech   \n",
       "35                      CarPhone Warehouse  2015       2700000           web   \n",
       "36                                   Fling  2016      40000000           web   \n",
       "37                                 Anthem   2016      80000000    healthcare   \n",
       "38                       Quest Diagnostics  2017         34000    healthcare   \n",
       "39                               Interpark  2017      10000000           web   \n",
       "40                                 Equifax  2017     143000000     financial   \n",
       "\n",
       "            METHOD OF LEAK                       DATA SENSITIVITY Raw_Symbol  \n",
       "0            poor security                   SSN/Personal details        ADP  \n",
       "1     lost / stolen device                Credit card information   CIT-U.TI  \n",
       "2     lost / stolen device                   SSN/Personal details        HPQ  \n",
       "3     lost / stolen device                   SSN/Personal details        GPS  \n",
       "4                   hacked  Just email address/Online information       AMTD  \n",
       "5               inside job                Credit card information        FIS  \n",
       "6               inside job  Just email address/Online information      DNPCF  \n",
       "7     lost / stolen device  Just email address/Online information          T  \n",
       "8     lost / stolen device                   SSN/Personal details       SBUX  \n",
       "9                   hacked                Credit card information       LYNS  \n",
       "10    lost / stolen device          Email password/Health records       IGRW  \n",
       "11                  hacked                Credit card information       HTLD  \n",
       "12                  hacked  Just email address/Online information          T  \n",
       "13                  hacked                Credit card information      PPB.L  \n",
       "14    lost / stolen device                Credit card information     JPM-PB  \n",
       "15                  hacked                Credit card information   CIT-U.TI  \n",
       "16                  hacked                Credit card information        GPN  \n",
       "17                  hacked                   SSN/Personal details     KTC.DU  \n",
       "18                  hacked                   SSN/Personal details       ATVI  \n",
       "19              inside job                   SSN/Personal details      KCT.V  \n",
       "20  accidentally published                   SSN/Personal details   CIT-U.TI  \n",
       "21  accidentally published                   SSN/Personal details      2GF.F  \n",
       "22                  hacked                   SSN/Personal details      NTDOY  \n",
       "23                 hacked   Just email address/Online information       TWTR  \n",
       "24  accidentally published                   SSN/Personal details    NMBS.KL  \n",
       "25              inside job                Credit card information        VOD  \n",
       "26  accidentally published  Just email address/Online information         FB  \n",
       "27                  hacked              Full bank account details       ADBE  \n",
       "28                  hacked  Just email address/Online information       NDAQ  \n",
       "29                  hacked                   SSN/Personal details      JAPSY  \n",
       "30                  hacked                   SSN/Personal details        CYH  \n",
       "31                  hacked                Credit card information        TGT  \n",
       "32                  hacked                Credit card information     JPM-PB  \n",
       "33                  hacked  Just email address/Online information       EBAY  \n",
       "34                  hacked                   SSN/Personal details      MSPYX  \n",
       "35                  hacked              Full bank account details  CPWFF8.EX  \n",
       "36                  hacked          Email password/Health records     FLINGX  \n",
       "37                  hacked                   SSN/Personal details       ANTM  \n",
       "38                  hacked          Email password/Health records        DGX  \n",
       "39                  hacked                   SSN/Personal details  035080.KQ  \n",
       "40                  hacked              Full bank account details        EFX  "
      ]
     },
     "execution_count": 13,
     "metadata": {},
     "output_type": "execute_result"
    }
   ],
   "source": [
    "df = df[df.Entity != 'University of Miami'][df.Entity != 'LinkedIn'][df.Entity != 'Stratfor']\n",
    "df = df.reset_index()\n",
    "df = df.ix[:,1:8]\n",
    "df"
   ]
  },
  {
   "cell_type": "markdown",
   "metadata": {},
   "source": [
    "I choose Equifax as stduy case to refute the claim by collecting its historical stock prices from Google Fiance."
   ]
  },
  {
   "cell_type": "code",
   "execution_count": 20,
   "metadata": {
    "collapsed": false
   },
   "outputs": [],
   "source": [
    "import pandas_datareader.data as web\n",
    "import datetime\n",
    "import fix_yahoo_finance as yf\n",
    "import warnings\n",
    "warnings.filterwarnings('ignore')\n",
    "\n",
    "df1 = web.get_data_google('EFX',start=\"2016-10-01\", end=\"2017-10-06\")\n",
    "\n",
    "dates =[]\n",
    "for x in range(len(df1)):\n",
    "    newdate = str(df1.index[x])\n",
    "    newdate = newdate[0:10]\n",
    "    dates.append(newdate)\n",
    "df1['dates'] = dates\n",
    "\n",
    "# Create a Series called nf\n",
    "nf = df1.Close"
   ]
  },
  {
   "cell_type": "code",
   "execution_count": 21,
   "metadata": {
    "collapsed": false,
    "scrolled": true
   },
   "outputs": [
    {
     "data": {
      "text/plain": [
       "<matplotlib.axes._subplots.AxesSubplot at 0x11654c6d0>"
      ]
     },
     "execution_count": 21,
     "metadata": {},
     "output_type": "execute_result"
    },
    {
     "data": {
      "image/png": "[encoded data removed]",
      "text/plain": [
       "<matplotlib.figure.Figure at 0x10aa749d0>"
      ]
     },
     "metadata": {},
     "output_type": "display_data"
    }
   ],
   "source": [
    "nf.plot()"
   ]
  },
  {
   "cell_type": "code",
   "execution_count": 22,
   "metadata": {
    "collapsed": false
   },
   "outputs": [],
   "source": [
    "df1.to_csv('EFX_stock.csv')"
   ]
  },
  {
   "cell_type": "markdown",
   "metadata": {},
   "source": [
    "Try to get a linear regression model"
   ]
  },
  {
   "cell_type": "code",
   "execution_count": 23,
   "metadata": {
    "collapsed": false
   },
   "outputs": [
    {
     "data": {
      "text/plain": [
       "Intercept    123.873236\n",
       "dates          0.030028\n",
       "dtype: float64"
      ]
     },
     "execution_count": 23,
     "metadata": {},
     "output_type": "execute_result"
    }
   ],
   "source": [
    "import statsmodels.formula.api as smf\n",
    "df1.dates = (df1.index -  df1.index[0]).days.astype(\"int64\").values.reshape(-1, 1)\n",
    "smf.ols( 'Close ~ dates', data=df1).fit().params"
   ]
  },
  {
   "cell_type": "code",
   "execution_count": 24,
   "metadata": {
    "collapsed": true
   },
   "outputs": [],
   "source": [
    "model = smf.ols( 'Close ~ dates', data=df1).fit()"
   ]
  },
  {
   "cell_type": "code",
   "execution_count": 25,
   "metadata": {
    "collapsed": false
   },
   "outputs": [
    {
     "data": {
      "text/html": [
       "<table class=\"simpletable\">\n",
       "<caption>OLS Regression Results</caption>\n",
       "<tr>\n",
       "  <th>Dep. Variable:</th>          <td>Close</td>      <th>  R-squared:         </th> <td>   0.074</td>\n",
       "</tr>\n",
       "<tr>\n",
       "  <th>Model:</th>                   <td>OLS</td>       <th>  Adj. R-squared:    </th> <td>   0.070</td>\n",
       "</tr>\n",
       "<tr>\n",
       "  <th>Method:</th>             <td>Least Squares</td>  <th>  F-statistic:       </th> <td>   19.94</td>\n",
       "</tr>\n",
       "<tr>\n",
       "  <th>Date:</th>             <td>Fri, 06 Oct 2017</td> <th>  Prob (F-statistic):</th> <td>1.21e-05</td>\n",
       "</tr>\n",
       "<tr>\n",
       "  <th>Time:</th>                 <td>21:57:11</td>     <th>  Log-Likelihood:    </th> <td> -962.28</td>\n",
       "</tr>\n",
       "<tr>\n",
       "  <th>No. Observations:</th>      <td>   251</td>      <th>  AIC:               </th> <td>   1929.</td>\n",
       "</tr>\n",
       "<tr>\n",
       "  <th>Df Residuals:</th>          <td>   249</td>      <th>  BIC:               </th> <td>   1936.</td>\n",
       "</tr>\n",
       "<tr>\n",
       "  <th>Df Model:</th>              <td>     1</td>      <th>                     </th>     <td> </td>   \n",
       "</tr>\n",
       "<tr>\n",
       "  <th>Covariance Type:</th>      <td>nonrobust</td>    <th>                     </th>     <td> </td>   \n",
       "</tr>\n",
       "</table>\n",
       "<table class=\"simpletable\">\n",
       "<tr>\n",
       "      <td></td>         <th>coef</th>     <th>std err</th>      <th>t</th>      <th>P>|t|</th>  <th>[0.025</th>    <th>0.975]</th>  \n",
       "</tr>\n",
       "<tr>\n",
       "  <th>Intercept</th> <td>  123.8732</td> <td>    1.410</td> <td>   87.872</td> <td> 0.000</td> <td>  121.097</td> <td>  126.650</td>\n",
       "</tr>\n",
       "<tr>\n",
       "  <th>dates</th>     <td>    0.0300</td> <td>    0.007</td> <td>    4.466</td> <td> 0.000</td> <td>    0.017</td> <td>    0.043</td>\n",
       "</tr>\n",
       "</table>\n",
       "<table class=\"simpletable\">\n",
       "<tr>\n",
       "  <th>Omnibus:</th>       <td>83.898</td> <th>  Durbin-Watson:     </th> <td>   0.042</td>\n",
       "</tr>\n",
       "<tr>\n",
       "  <th>Prob(Omnibus):</th> <td> 0.000</td> <th>  Jarque-Bera (JB):  </th> <td> 183.983</td>\n",
       "</tr>\n",
       "<tr>\n",
       "  <th>Skew:</th>          <td>-1.645</td> <th>  Prob(JB):          </th> <td>1.12e-40</td>\n",
       "</tr>\n",
       "<tr>\n",
       "  <th>Kurtosis:</th>      <td> 5.602</td> <th>  Cond. No.          </th> <td>    417.</td>\n",
       "</tr>\n",
       "</table>"
      ],
      "text/plain": [
       "<class 'statsmodels.iolib.summary.Summary'>\n",
       "\"\"\"\n",
       "                            OLS Regression Results                            \n",
       "==============================================================================\n",
       "Dep. Variable:                  Close   R-squared:                       0.074\n",
       "Model:                            OLS   Adj. R-squared:                  0.070\n",
       "Method:                 Least Squares   F-statistic:                     19.94\n",
       "Date:                Fri, 06 Oct 2017   Prob (F-statistic):           1.21e-05\n",
       "Time:                        21:57:11   Log-Likelihood:                -962.28\n",
       "No. Observations:                 251   AIC:                             1929.\n",
       "Df Residuals:                     249   BIC:                             1936.\n",
       "Df Model:                           1                                         \n",
       "Covariance Type:            nonrobust                                         \n",
       "==============================================================================\n",
       "                 coef    std err          t      P>|t|      [0.025      0.975]\n",
       "------------------------------------------------------------------------------\n",
       "Intercept    123.8732      1.410     87.872      0.000     121.097     126.650\n",
       "dates          0.0300      0.007      4.466      0.000       0.017       0.043\n",
       "==============================================================================\n",
       "Omnibus:                       83.898   Durbin-Watson:                   0.042\n",
       "Prob(Omnibus):                  0.000   Jarque-Bera (JB):              183.983\n",
       "Skew:                          -1.645   Prob(JB):                     1.12e-40\n",
       "Kurtosis:                       5.602   Cond. No.                         417.\n",
       "==============================================================================\n",
       "\n",
       "Warnings:\n",
       "[1] Standard Errors assume that the covariance matrix of the errors is correctly specified.\n",
       "\"\"\""
      ]
     },
     "execution_count": 25,
     "metadata": {},
     "output_type": "execute_result"
    }
   ],
   "source": [
    "model.summary()"
   ]
  },
  {
   "cell_type": "markdown",
   "metadata": {},
   "source": [
    "Sometimes pandas_datareader would throw some errors, we can use another package to deal with this situation"
   ]
  },
  {
   "cell_type": "code",
   "execution_count": null,
   "metadata": {
    "collapsed": false
   },
   "outputs": [],
   "source": [
    "import fix_yahoo_finance as yf\n",
    "data = yf.download(\"EFX\", start=\"2017-01-01\", end=\"2017-10-02\")\n",
    "stock = data.Close"
   ]
  },
  {
   "cell_type": "code",
   "execution_count": null,
   "metadata": {
    "collapsed": false
   },
   "outputs": [],
   "source": [
    "stock.plot()"
   ]
  },
  {
   "cell_type": "code",
   "execution_count": null,
   "metadata": {
    "collapsed": true
   },
   "outputs": [],
   "source": []
  }
 ],
 "metadata": {
  "kernelspec": {
   "display_name": "Python 2",
   "language": "python",
   "name": "python2"
  },
  "language_info": {
   "codemirror_mode": {
    "name": "ipython",
    "version": 2
   },
   "file_extension": ".py",
   "mimetype": "text/x-python",
   "name": "python",
   "nbconvert_exporter": "python",
   "pygments_lexer": "ipython2",
   "version": "2.7.11"
  }
 },
 "nbformat": 4,
 "nbformat_minor": 2
}
