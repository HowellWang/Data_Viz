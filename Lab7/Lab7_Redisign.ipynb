{
 "cells": [
  {
   "cell_type": "markdown",
   "metadata": {
    "deletable": true,
    "editable": true
   },
   "source": [
    "# MSIS 2629 - Data Visualization\n",
    "# Submitted by: Yuhao Wang"
   ]
  },
  {
   "cell_type": "code",
   "execution_count": 2,
   "metadata": {
    "collapsed": false,
    "deletable": true,
    "editable": true
   },
   "outputs": [],
   "source": [
    "import pandas as pd\n",
    "import numpy as np\n",
    "import matplotlib.pyplot as plt\n",
    "%matplotlib inline\n",
    "from fuzzywuzzy import fuzz\n",
    "from urllib2 import urlopen, URLError\n",
    "import warnings\n",
    "warnings.filterwarnings('ignore')"
   ]
  },
  {
   "cell_type": "code",
   "execution_count": 3,
   "metadata": {
    "collapsed": false,
    "deletable": true,
    "editable": true,
    "scrolled": false
   },
   "outputs": [],
   "source": [
    "df = pd.read_csv(\"test.csv\")"
   ]
  },
  {
   "cell_type": "markdown",
   "metadata": {
    "deletable": true,
    "editable": true
   },
   "source": [
    "The Entity's name with '&' will have some negative influences on the web scraping. I decide to deal with it firstly."
   ]
  },
  {
   "cell_type": "code",
   "execution_count": 4,
   "metadata": {
    "collapsed": true,
    "deletable": true,
    "editable": true
   },
   "outputs": [],
   "source": [
    "df['Entity'][df.Entity == 'AT&T'] = 'ATT'\n",
    "df['Entity'][df.Entity == 'D&B, Altegrity'] = 'Altegrity'"
   ]
  },
  {
   "cell_type": "code",
   "execution_count": 5,
   "metadata": {
    "collapsed": false,
    "deletable": true,
    "editable": true,
    "scrolled": false
   },
   "outputs": [],
   "source": [
    "helper = df.Entity\n",
    "helper = list(helper)"
   ]
  },
  {
   "cell_type": "markdown",
   "metadata": {
    "deletable": true,
    "editable": true
   },
   "source": [
    "Web Scraping"
   ]
  },
  {
   "cell_type": "code",
   "execution_count": 6,
   "metadata": {
    "collapsed": false,
    "deletable": true,
    "editable": true,
    "scrolled": false
   },
   "outputs": [],
   "source": [
    "res = []\n",
    "for i in helper:\n",
    "    url = 'http://d.yimg.com/autoc.finance.yahoo.com/autoc?query=' + '%20'.join(i.split(' ')) + '&region=1&lang=en'\n",
    "    #print url\n",
    "    resp = urlopen(url)\n",
    "    s = resp.read()\n",
    "    res.append(s)"
   ]
  },
  {
   "cell_type": "markdown",
   "metadata": {
    "deletable": true,
    "editable": true
   },
   "source": [
    "Change string to json, and skip the useless rows(private company or non-profit organization)"
   ]
  },
  {
   "cell_type": "code",
   "execution_count": 7,
   "metadata": {
    "collapsed": false,
    "deletable": true,
    "editable": true,
    "scrolled": false
   },
   "outputs": [],
   "source": [
    "import json\n",
    "for i in range(0,len(res)):\n",
    "    j = json.loads(res[i])\n",
    "    if j['ResultSet']['Result'] == []:\n",
    "        res[i] = '' "
   ]
  },
  {
   "cell_type": "markdown",
   "metadata": {
    "deletable": true,
    "editable": true
   },
   "source": [
    "Further check, use fuzzwuzzy to regonize match Entity's name and stock symbol"
   ]
  },
  {
   "cell_type": "code",
   "execution_count": 8,
   "metadata": {
    "collapsed": false,
    "deletable": true,
    "editable": true
   },
   "outputs": [],
   "source": [
    "df['Raw_Symbol'] = res\n",
    "df = df[df.Raw_Symbol != '']\n",
    "df = df.reset_index()\n",
    "df = df.ix[:,1:8]"
   ]
  },
  {
   "cell_type": "code",
   "execution_count": 9,
   "metadata": {
    "collapsed": false,
    "deletable": true,
    "editable": true,
    "scrolled": false
   },
   "outputs": [],
   "source": [
    "for i in range(0, len(df.Raw_Symbol)):\n",
    "    if fuzz.partial_ratio(df.Entity[i], df.Raw_Symbol[i][28:]) <= 0:\n",
    "        df.Raw_Symbol[i] = ''\n",
    "df = df[df.Raw_Symbol != '']\n",
    "df = df.reset_index()\n",
    "df = df.ix[:,1:8]"
   ]
  },
  {
   "cell_type": "code",
   "execution_count": 10,
   "metadata": {
    "collapsed": false,
    "deletable": true,
    "editable": true
   },
   "outputs": [],
   "source": [
    "for i in range(0, len(df.Raw_Symbol)):\n",
    "    j = json.loads(df.Raw_Symbol[i])\n",
    "    helper = j['ResultSet']['Result']\n",
    "    for h in range(0, len(helper)):\n",
    "        if fuzz.partial_ratio(df.Entity[i], helper[h]) >= 50:\n",
    "            df.Raw_Symbol[i] = helper[0]['symbol']"
   ]
  },
  {
   "cell_type": "markdown",
   "metadata": {
    "deletable": true,
    "editable": true
   },
   "source": [
    "Double check"
   ]
  },
  {
   "cell_type": "code",
   "execution_count": 11,
   "metadata": {
    "collapsed": false,
    "deletable": true,
    "editable": true
   },
   "outputs": [
    {
     "data": {
      "text/html": [
       "<div>\n",
       "<style>\n",
       "    .dataframe thead tr:only-child th {\n",
       "        text-align: right;\n",
       "    }\n",
       "\n",
       "    .dataframe thead th {\n",
       "        text-align: left;\n",
       "    }\n",
       "\n",
       "    .dataframe tbody tr th {\n",
       "        vertical-align: top;\n",
       "    }\n",
       "</style>\n",
       "<table border=\"1\" class=\"dataframe\">\n",
       "  <thead>\n",
       "    <tr style=\"text-align: right;\">\n",
       "      <th></th>\n",
       "      <th>Entity</th>\n",
       "      <th>YEAR</th>\n",
       "      <th>records lost</th>\n",
       "      <th>ORGANISATION</th>\n",
       "      <th>METHOD OF LEAK</th>\n",
       "      <th>DATA SENSITIVITY</th>\n",
       "      <th>Raw_Symbol</th>\n",
       "    </tr>\n",
       "  </thead>\n",
       "  <tbody>\n",
       "    <tr>\n",
       "      <th>0</th>\n",
       "      <td>Automatic Data Processing</td>\n",
       "      <td>2005</td>\n",
       "      <td>125000</td>\n",
       "      <td>financial</td>\n",
       "      <td>poor security</td>\n",
       "      <td>SSN/Personal details</td>\n",
       "      <td>ADP</td>\n",
       "    </tr>\n",
       "    <tr>\n",
       "      <th>1</th>\n",
       "      <td>Citigroup</td>\n",
       "      <td>2005</td>\n",
       "      <td>3900000</td>\n",
       "      <td>financial</td>\n",
       "      <td>lost / stolen device</td>\n",
       "      <td>Credit card information</td>\n",
       "      <td>CIT-U.TI</td>\n",
       "    </tr>\n",
       "    <tr>\n",
       "      <th>2</th>\n",
       "      <td>Hewlett Packard</td>\n",
       "      <td>2006</td>\n",
       "      <td>200000</td>\n",
       "      <td>tech, retail</td>\n",
       "      <td>lost / stolen device</td>\n",
       "      <td>SSN/Personal details</td>\n",
       "      <td>HPQ</td>\n",
       "    </tr>\n",
       "    <tr>\n",
       "      <th>3</th>\n",
       "      <td>Gap Inc</td>\n",
       "      <td>2007</td>\n",
       "      <td>800000</td>\n",
       "      <td>retail</td>\n",
       "      <td>lost / stolen device</td>\n",
       "      <td>SSN/Personal details</td>\n",
       "      <td>GPS</td>\n",
       "    </tr>\n",
       "    <tr>\n",
       "      <th>4</th>\n",
       "      <td>TD Ameritrade</td>\n",
       "      <td>2007</td>\n",
       "      <td>6300000</td>\n",
       "      <td>financial</td>\n",
       "      <td>hacked</td>\n",
       "      <td>Just email address/Online information</td>\n",
       "      <td>AMTD</td>\n",
       "    </tr>\n",
       "    <tr>\n",
       "      <th>5</th>\n",
       "      <td>Fidelity National Information Services</td>\n",
       "      <td>2007</td>\n",
       "      <td>8500000</td>\n",
       "      <td>financial</td>\n",
       "      <td>inside job</td>\n",
       "      <td>Credit card information</td>\n",
       "      <td>FIS</td>\n",
       "    </tr>\n",
       "    <tr>\n",
       "      <th>6</th>\n",
       "      <td>Dai Nippon Printing</td>\n",
       "      <td>2007</td>\n",
       "      <td>8637405</td>\n",
       "      <td>retail</td>\n",
       "      <td>inside job</td>\n",
       "      <td>Just email address/Online information</td>\n",
       "      <td>DNPLY</td>\n",
       "    </tr>\n",
       "    <tr>\n",
       "      <th>7</th>\n",
       "      <td>ATT</td>\n",
       "      <td>2008</td>\n",
       "      <td>113000</td>\n",
       "      <td>telecoms</td>\n",
       "      <td>lost / stolen device</td>\n",
       "      <td>Just email address/Online information</td>\n",
       "      <td>T</td>\n",
       "    </tr>\n",
       "    <tr>\n",
       "      <th>8</th>\n",
       "      <td>Starbucks</td>\n",
       "      <td>2008</td>\n",
       "      <td>97000</td>\n",
       "      <td>retail</td>\n",
       "      <td>lost / stolen device</td>\n",
       "      <td>SSN/Personal details</td>\n",
       "      <td>SBUX</td>\n",
       "    </tr>\n",
       "    <tr>\n",
       "      <th>9</th>\n",
       "      <td>Network Solutions</td>\n",
       "      <td>2009</td>\n",
       "      <td>573000</td>\n",
       "      <td>tech</td>\n",
       "      <td>hacked</td>\n",
       "      <td>Credit card information</td>\n",
       "      <td>LYNS</td>\n",
       "    </tr>\n",
       "    <tr>\n",
       "      <th>10</th>\n",
       "      <td>Heartland</td>\n",
       "      <td>2009</td>\n",
       "      <td>130000000</td>\n",
       "      <td>financial</td>\n",
       "      <td>hacked</td>\n",
       "      <td>Credit card information</td>\n",
       "      <td>HTLD</td>\n",
       "    </tr>\n",
       "    <tr>\n",
       "      <th>11</th>\n",
       "      <td>ATT</td>\n",
       "      <td>2010</td>\n",
       "      <td>114000</td>\n",
       "      <td>telecoms</td>\n",
       "      <td>hacked</td>\n",
       "      <td>Just email address/Online information</td>\n",
       "      <td>T</td>\n",
       "    </tr>\n",
       "    <tr>\n",
       "      <th>12</th>\n",
       "      <td>Betfair</td>\n",
       "      <td>2010</td>\n",
       "      <td>2300000</td>\n",
       "      <td>web</td>\n",
       "      <td>hacked</td>\n",
       "      <td>Credit card information</td>\n",
       "      <td>PPB.L</td>\n",
       "    </tr>\n",
       "    <tr>\n",
       "      <th>13</th>\n",
       "      <td>JP Morgan Chase</td>\n",
       "      <td>2010</td>\n",
       "      <td>2600000</td>\n",
       "      <td>financial</td>\n",
       "      <td>lost / stolen device</td>\n",
       "      <td>Credit card information</td>\n",
       "      <td>JPM-PB</td>\n",
       "    </tr>\n",
       "    <tr>\n",
       "      <th>14</th>\n",
       "      <td>Citigroup</td>\n",
       "      <td>2011</td>\n",
       "      <td>360083</td>\n",
       "      <td>financial</td>\n",
       "      <td>hacked</td>\n",
       "      <td>Credit card information</td>\n",
       "      <td>CIT-U.TI</td>\n",
       "    </tr>\n",
       "    <tr>\n",
       "      <th>15</th>\n",
       "      <td>Global Payments</td>\n",
       "      <td>2012</td>\n",
       "      <td>7000000</td>\n",
       "      <td>financial</td>\n",
       "      <td>hacked</td>\n",
       "      <td>Credit card information</td>\n",
       "      <td>GPN</td>\n",
       "    </tr>\n",
       "    <tr>\n",
       "      <th>16</th>\n",
       "      <td>KT Corp.</td>\n",
       "      <td>2012</td>\n",
       "      <td>8700000</td>\n",
       "      <td>telecoms</td>\n",
       "      <td>hacked</td>\n",
       "      <td>SSN/Personal details</td>\n",
       "      <td>KTC.BE</td>\n",
       "    </tr>\n",
       "    <tr>\n",
       "      <th>17</th>\n",
       "      <td>Blizzard</td>\n",
       "      <td>2012</td>\n",
       "      <td>14000000</td>\n",
       "      <td>gaming</td>\n",
       "      <td>hacked</td>\n",
       "      <td>SSN/Personal details</td>\n",
       "      <td>ATVI</td>\n",
       "    </tr>\n",
       "    <tr>\n",
       "      <th>18</th>\n",
       "      <td>Court Ventures</td>\n",
       "      <td>2012</td>\n",
       "      <td>200000000</td>\n",
       "      <td>financial</td>\n",
       "      <td>inside job</td>\n",
       "      <td>SSN/Personal details</td>\n",
       "      <td>KCT.V</td>\n",
       "    </tr>\n",
       "    <tr>\n",
       "      <th>19</th>\n",
       "      <td>Citigroup</td>\n",
       "      <td>2013</td>\n",
       "      <td>150000</td>\n",
       "      <td>financial</td>\n",
       "      <td>accidentally published</td>\n",
       "      <td>SSN/Personal details</td>\n",
       "      <td>CIT-U.TI</td>\n",
       "    </tr>\n",
       "    <tr>\n",
       "      <th>20</th>\n",
       "      <td>TerraCom &amp; YourTel</td>\n",
       "      <td>2013</td>\n",
       "      <td>170000</td>\n",
       "      <td>telecoms</td>\n",
       "      <td>accidentally published</td>\n",
       "      <td>SSN/Personal details</td>\n",
       "      <td>TER.AX</td>\n",
       "    </tr>\n",
       "    <tr>\n",
       "      <th>21</th>\n",
       "      <td>Nintendo</td>\n",
       "      <td>2013</td>\n",
       "      <td>240000</td>\n",
       "      <td>gaming</td>\n",
       "      <td>hacked</td>\n",
       "      <td>SSN/Personal details</td>\n",
       "      <td>NTDOY</td>\n",
       "    </tr>\n",
       "    <tr>\n",
       "      <th>22</th>\n",
       "      <td>Twitter</td>\n",
       "      <td>2013</td>\n",
       "      <td>250000</td>\n",
       "      <td>web</td>\n",
       "      <td>hacked</td>\n",
       "      <td>Just email address/Online information</td>\n",
       "      <td>TWTR</td>\n",
       "    </tr>\n",
       "    <tr>\n",
       "      <th>23</th>\n",
       "      <td>NMBS</td>\n",
       "      <td>2013</td>\n",
       "      <td>1460000</td>\n",
       "      <td>transport</td>\n",
       "      <td>accidentally published</td>\n",
       "      <td>SSN/Personal details</td>\n",
       "      <td>NMBS.KL</td>\n",
       "    </tr>\n",
       "    <tr>\n",
       "      <th>24</th>\n",
       "      <td>Vodafone</td>\n",
       "      <td>2013</td>\n",
       "      <td>2000000</td>\n",
       "      <td>telecoms</td>\n",
       "      <td>inside job</td>\n",
       "      <td>Credit card information</td>\n",
       "      <td>VOD</td>\n",
       "    </tr>\n",
       "    <tr>\n",
       "      <th>25</th>\n",
       "      <td>Facebook</td>\n",
       "      <td>2013</td>\n",
       "      <td>6000000</td>\n",
       "      <td>web</td>\n",
       "      <td>accidentally published</td>\n",
       "      <td>Just email address/Online information</td>\n",
       "      <td>FB</td>\n",
       "    </tr>\n",
       "    <tr>\n",
       "      <th>26</th>\n",
       "      <td>Adobe</td>\n",
       "      <td>2013</td>\n",
       "      <td>36000000</td>\n",
       "      <td>tech</td>\n",
       "      <td>hacked</td>\n",
       "      <td>Full bank account details</td>\n",
       "      <td>ADBE</td>\n",
       "    </tr>\n",
       "    <tr>\n",
       "      <th>27</th>\n",
       "      <td>NASDAQ</td>\n",
       "      <td>2014</td>\n",
       "      <td>500000</td>\n",
       "      <td>financial</td>\n",
       "      <td>hacked</td>\n",
       "      <td>Just email address/Online information</td>\n",
       "      <td>NDAQ</td>\n",
       "    </tr>\n",
       "    <tr>\n",
       "      <th>28</th>\n",
       "      <td>Japan Airlines</td>\n",
       "      <td>2014</td>\n",
       "      <td>750000</td>\n",
       "      <td>transport</td>\n",
       "      <td>hacked</td>\n",
       "      <td>SSN/Personal details</td>\n",
       "      <td>JAPSY</td>\n",
       "    </tr>\n",
       "    <tr>\n",
       "      <th>29</th>\n",
       "      <td>Community Health Systems</td>\n",
       "      <td>2014</td>\n",
       "      <td>4500000</td>\n",
       "      <td>healthcare</td>\n",
       "      <td>hacked</td>\n",
       "      <td>SSN/Personal details</td>\n",
       "      <td>CYH</td>\n",
       "    </tr>\n",
       "    <tr>\n",
       "      <th>30</th>\n",
       "      <td>Home Depot</td>\n",
       "      <td>2014</td>\n",
       "      <td>56000000</td>\n",
       "      <td>retail</td>\n",
       "      <td>hacked</td>\n",
       "      <td>Credit card information</td>\n",
       "      <td>HD</td>\n",
       "    </tr>\n",
       "    <tr>\n",
       "      <th>31</th>\n",
       "      <td>Target</td>\n",
       "      <td>2014</td>\n",
       "      <td>70000000</td>\n",
       "      <td>retail</td>\n",
       "      <td>hacked</td>\n",
       "      <td>Credit card information</td>\n",
       "      <td>TGT</td>\n",
       "    </tr>\n",
       "    <tr>\n",
       "      <th>32</th>\n",
       "      <td>JP Morgan Chase</td>\n",
       "      <td>2014</td>\n",
       "      <td>76000000</td>\n",
       "      <td>financial</td>\n",
       "      <td>hacked</td>\n",
       "      <td>Credit card information</td>\n",
       "      <td>JPM-PB</td>\n",
       "    </tr>\n",
       "    <tr>\n",
       "      <th>33</th>\n",
       "      <td>Ebay</td>\n",
       "      <td>2014</td>\n",
       "      <td>145000000</td>\n",
       "      <td>web</td>\n",
       "      <td>hacked</td>\n",
       "      <td>Just email address/Online information</td>\n",
       "      <td>EBAY</td>\n",
       "    </tr>\n",
       "    <tr>\n",
       "      <th>34</th>\n",
       "      <td>MSpy</td>\n",
       "      <td>2015</td>\n",
       "      <td>400000</td>\n",
       "      <td>tech</td>\n",
       "      <td>hacked</td>\n",
       "      <td>SSN/Personal details</td>\n",
       "      <td>MSPYX</td>\n",
       "    </tr>\n",
       "    <tr>\n",
       "      <th>35</th>\n",
       "      <td>CarPhone Warehouse</td>\n",
       "      <td>2015</td>\n",
       "      <td>2700000</td>\n",
       "      <td>web</td>\n",
       "      <td>hacked</td>\n",
       "      <td>Full bank account details</td>\n",
       "      <td>CPWFF8.EX</td>\n",
       "    </tr>\n",
       "    <tr>\n",
       "      <th>36</th>\n",
       "      <td>Anthem</td>\n",
       "      <td>2016</td>\n",
       "      <td>80000000</td>\n",
       "      <td>healthcare</td>\n",
       "      <td>hacked</td>\n",
       "      <td>SSN/Personal details</td>\n",
       "      <td>ANTM</td>\n",
       "    </tr>\n",
       "    <tr>\n",
       "      <th>37</th>\n",
       "      <td>Quest Diagnostics</td>\n",
       "      <td>2017</td>\n",
       "      <td>34000</td>\n",
       "      <td>healthcare</td>\n",
       "      <td>hacked</td>\n",
       "      <td>Email password/Health records</td>\n",
       "      <td>DGX</td>\n",
       "    </tr>\n",
       "    <tr>\n",
       "      <th>38</th>\n",
       "      <td>Interpark</td>\n",
       "      <td>2017</td>\n",
       "      <td>10000000</td>\n",
       "      <td>web</td>\n",
       "      <td>hacked</td>\n",
       "      <td>SSN/Personal details</td>\n",
       "      <td>108790.KQ</td>\n",
       "    </tr>\n",
       "    <tr>\n",
       "      <th>39</th>\n",
       "      <td>Equifax</td>\n",
       "      <td>2017</td>\n",
       "      <td>143000000</td>\n",
       "      <td>financial</td>\n",
       "      <td>hacked</td>\n",
       "      <td>Full bank account details</td>\n",
       "      <td>EFX</td>\n",
       "    </tr>\n",
       "  </tbody>\n",
       "</table>\n",
       "</div>"
      ],
      "text/plain": [
       "                                    Entity  YEAR  records lost  ORGANISATION  \\\n",
       "0                Automatic Data Processing  2005        125000     financial   \n",
       "1                                Citigroup  2005       3900000     financial   \n",
       "2                          Hewlett Packard  2006        200000  tech, retail   \n",
       "3                                  Gap Inc  2007        800000        retail   \n",
       "4                            TD Ameritrade  2007       6300000     financial   \n",
       "5   Fidelity National Information Services  2007       8500000     financial   \n",
       "6                      Dai Nippon Printing  2007       8637405        retail   \n",
       "7                                      ATT  2008        113000      telecoms   \n",
       "8                                Starbucks  2008         97000        retail   \n",
       "9                        Network Solutions  2009        573000          tech   \n",
       "10                               Heartland  2009     130000000     financial   \n",
       "11                                     ATT  2010        114000      telecoms   \n",
       "12                                 Betfair  2010       2300000           web   \n",
       "13                         JP Morgan Chase  2010       2600000     financial   \n",
       "14                               Citigroup  2011        360083     financial   \n",
       "15                         Global Payments  2012       7000000     financial   \n",
       "16                                KT Corp.  2012       8700000      telecoms   \n",
       "17                                Blizzard  2012      14000000        gaming   \n",
       "18                          Court Ventures  2012     200000000     financial   \n",
       "19                               Citigroup  2013        150000     financial   \n",
       "20                      TerraCom & YourTel  2013        170000      telecoms   \n",
       "21                                Nintendo  2013        240000        gaming   \n",
       "22                                 Twitter  2013        250000           web   \n",
       "23                                    NMBS  2013       1460000     transport   \n",
       "24                                Vodafone  2013       2000000      telecoms   \n",
       "25                                Facebook  2013       6000000           web   \n",
       "26                                   Adobe  2013      36000000          tech   \n",
       "27                                  NASDAQ  2014        500000     financial   \n",
       "28                          Japan Airlines  2014        750000     transport   \n",
       "29                Community Health Systems  2014       4500000    healthcare   \n",
       "30                              Home Depot  2014      56000000        retail   \n",
       "31                                  Target  2014      70000000        retail   \n",
       "32                         JP Morgan Chase  2014      76000000     financial   \n",
       "33                                    Ebay  2014     145000000           web   \n",
       "34                                    MSpy  2015        400000          tech   \n",
       "35                      CarPhone Warehouse  2015       2700000           web   \n",
       "36                                 Anthem   2016      80000000    healthcare   \n",
       "37                       Quest Diagnostics  2017         34000    healthcare   \n",
       "38                               Interpark  2017      10000000           web   \n",
       "39                                 Equifax  2017     143000000     financial   \n",
       "\n",
       "            METHOD OF LEAK                       DATA SENSITIVITY Raw_Symbol  \n",
       "0            poor security                   SSN/Personal details        ADP  \n",
       "1     lost / stolen device                Credit card information   CIT-U.TI  \n",
       "2     lost / stolen device                   SSN/Personal details        HPQ  \n",
       "3     lost / stolen device                   SSN/Personal details        GPS  \n",
       "4                   hacked  Just email address/Online information       AMTD  \n",
       "5               inside job                Credit card information        FIS  \n",
       "6               inside job  Just email address/Online information      DNPLY  \n",
       "7     lost / stolen device  Just email address/Online information          T  \n",
       "8     lost / stolen device                   SSN/Personal details       SBUX  \n",
       "9                   hacked                Credit card information       LYNS  \n",
       "10                  hacked                Credit card information       HTLD  \n",
       "11                  hacked  Just email address/Online information          T  \n",
       "12                  hacked                Credit card information      PPB.L  \n",
       "13    lost / stolen device                Credit card information     JPM-PB  \n",
       "14                  hacked                Credit card information   CIT-U.TI  \n",
       "15                  hacked                Credit card information        GPN  \n",
       "16                  hacked                   SSN/Personal details     KTC.BE  \n",
       "17                  hacked                   SSN/Personal details       ATVI  \n",
       "18              inside job                   SSN/Personal details      KCT.V  \n",
       "19  accidentally published                   SSN/Personal details   CIT-U.TI  \n",
       "20  accidentally published                   SSN/Personal details     TER.AX  \n",
       "21                  hacked                   SSN/Personal details      NTDOY  \n",
       "22                 hacked   Just email address/Online information       TWTR  \n",
       "23  accidentally published                   SSN/Personal details    NMBS.KL  \n",
       "24              inside job                Credit card information        VOD  \n",
       "25  accidentally published  Just email address/Online information         FB  \n",
       "26                  hacked              Full bank account details       ADBE  \n",
       "27                  hacked  Just email address/Online information       NDAQ  \n",
       "28                  hacked                   SSN/Personal details      JAPSY  \n",
       "29                  hacked                   SSN/Personal details        CYH  \n",
       "30                  hacked                Credit card information         HD  \n",
       "31                  hacked                Credit card information        TGT  \n",
       "32                  hacked                Credit card information     JPM-PB  \n",
       "33                  hacked  Just email address/Online information       EBAY  \n",
       "34                  hacked                   SSN/Personal details      MSPYX  \n",
       "35                  hacked              Full bank account details  CPWFF8.EX  \n",
       "36                  hacked                   SSN/Personal details       ANTM  \n",
       "37                  hacked          Email password/Health records        DGX  \n",
       "38                  hacked                   SSN/Personal details  108790.KQ  \n",
       "39                  hacked              Full bank account details        EFX  "
      ]
     },
     "execution_count": 11,
     "metadata": {},
     "output_type": "execute_result"
    }
   ],
   "source": [
    "df = df[df.Entity != 'University of Miami'][df.Entity != 'LinkedIn'][df.Entity != 'Stratfor'][df.Entity != 'Health Net '][df.Entity != 'Fling'] \n",
    "df = df.reset_index()\n",
    "df = df.ix[:,1:8]\n",
    "df"
   ]
  },
  {
   "cell_type": "code",
   "execution_count": 12,
   "metadata": {
    "collapsed": false
   },
   "outputs": [],
   "source": [
    "#The Anthem's data breaches happened in Feb, 2015, I aslo checked the original data's 'story' column, which also refers to\n",
    "#the 2015's data breaches, so the year of Anthem that they offered is not correct, I change it to correct one\n",
    "df.ix[36, 1] = 2015"
   ]
  },
  {
   "cell_type": "code",
   "execution_count": 13,
   "metadata": {
    "collapsed": false
   },
   "outputs": [
    {
     "data": {
      "text/html": [
       "<div>\n",
       "<style>\n",
       "    .dataframe thead tr:only-child th {\n",
       "        text-align: right;\n",
       "    }\n",
       "\n",
       "    .dataframe thead th {\n",
       "        text-align: left;\n",
       "    }\n",
       "\n",
       "    .dataframe tbody tr th {\n",
       "        vertical-align: top;\n",
       "    }\n",
       "</style>\n",
       "<table border=\"1\" class=\"dataframe\">\n",
       "  <thead>\n",
       "    <tr style=\"text-align: right;\">\n",
       "      <th></th>\n",
       "      <th>Entity</th>\n",
       "      <th>YEAR</th>\n",
       "      <th>records lost</th>\n",
       "      <th>ORGANISATION</th>\n",
       "      <th>METHOD OF LEAK</th>\n",
       "      <th>DATA SENSITIVITY</th>\n",
       "      <th>Raw_Symbol</th>\n",
       "    </tr>\n",
       "  </thead>\n",
       "  <tbody>\n",
       "    <tr>\n",
       "      <th>29</th>\n",
       "      <td>Community Health Systems</td>\n",
       "      <td>2014</td>\n",
       "      <td>4500000</td>\n",
       "      <td>healthcare</td>\n",
       "      <td>hacked</td>\n",
       "      <td>SSN/Personal details</td>\n",
       "      <td>CYH</td>\n",
       "    </tr>\n",
       "    <tr>\n",
       "      <th>36</th>\n",
       "      <td>Anthem</td>\n",
       "      <td>2015</td>\n",
       "      <td>80000000</td>\n",
       "      <td>healthcare</td>\n",
       "      <td>hacked</td>\n",
       "      <td>SSN/Personal details</td>\n",
       "      <td>ANTM</td>\n",
       "    </tr>\n",
       "    <tr>\n",
       "      <th>37</th>\n",
       "      <td>Quest Diagnostics</td>\n",
       "      <td>2017</td>\n",
       "      <td>34000</td>\n",
       "      <td>healthcare</td>\n",
       "      <td>hacked</td>\n",
       "      <td>Email password/Health records</td>\n",
       "      <td>DGX</td>\n",
       "    </tr>\n",
       "  </tbody>\n",
       "</table>\n",
       "</div>"
      ],
      "text/plain": [
       "                      Entity  YEAR  records lost ORGANISATION METHOD OF LEAK  \\\n",
       "29  Community Health Systems  2014       4500000   healthcare         hacked   \n",
       "36                   Anthem   2015      80000000   healthcare         hacked   \n",
       "37         Quest Diagnostics  2017         34000   healthcare         hacked   \n",
       "\n",
       "                 DATA SENSITIVITY Raw_Symbol  \n",
       "29           SSN/Personal details        CYH  \n",
       "36           SSN/Personal details       ANTM  \n",
       "37  Email password/Health records        DGX  "
      ]
     },
     "execution_count": 13,
     "metadata": {},
     "output_type": "execute_result"
    }
   ],
   "source": [
    "healthcare = df[df.ORGANISATION == \"healthcare\"]\n",
    "healthcare"
   ]
  },
  {
   "cell_type": "code",
   "execution_count": 14,
   "metadata": {
    "collapsed": false
   },
   "outputs": [
    {
     "name": "stderr",
     "output_type": "stream",
     "text": [
      "/Users/yuhaowang/Library/Enthought/Canopy_64bit/User/lib/python2.7/site-packages/fix_yahoo_finance/__init__.py:43: DeprecationWarning: \n",
      "    Auto-overriding of pandas_datareader's get_data_yahoo() is deprecated and no longer available.\n",
      "    Use pdr_override() to explicitly override it.\n",
      "  DeprecationWarning)\n"
     ]
    },
    {
     "name": "stdout",
     "output_type": "stream",
     "text": [
      "[*********************100%***********************]  1 of 1 downloaded"
     ]
    },
    {
     "data": {
      "text/plain": [
       "<matplotlib.axes._subplots.AxesSubplot at 0x10aa31610>"
      ]
     },
     "execution_count": 14,
     "metadata": {},
     "output_type": "execute_result"
    },
    {
     "data": {
      "image/png": "[encoded data removed]",
      "text/plain": [
       "<matplotlib.figure.Figure at 0x109771d10>"
      ]
     },
     "metadata": {},
     "output_type": "display_data"
    },
    {
     "name": "stderr",
     "output_type": "stream",
     "text": [
      "/Applications/Canopy.app/appdata/canopy-1.7.4.3348.macosx-x86_64/Canopy.app/Contents/lib/python2.7/json/encoder.py:207: DeprecationWarning: Interpreting naive datetime as local 2017-11-04 03:25:05.632470. Please add timezone info to timestamps.\n",
      "  chunks = self.iterencode(o, _one_shot=True)\n"
     ]
    }
   ],
   "source": [
    "import fix_yahoo_finance as yf\n",
    "CYH = yf.download(\"CYH\", start=\"2013-07-01\", end=\"2014-12-31\")\n",
    "stock1 = CYH.Close\n",
    "stock1.plot()"
   ]
  },
  {
   "cell_type": "code",
   "execution_count": 19,
   "metadata": {
    "collapsed": true
   },
   "outputs": [],
   "source": [
    "import pandas_datareader.data as web\n",
    "import datetime\n",
    "import warnings\n",
    "warnings.filterwarnings('ignore')\n",
    "\n",
    "start = datetime.datetime(2015, 1, 1)\n",
    "end = datetime.datetime(2016, 1, 1)\n",
    "ANTM = web.DataReader('ANTM','yahoo', start, end)\n",
    "\n",
    "dates =[]\n",
    "for x in range(len(ANTM)):\n",
    "    newdate = str(ANTM.index[x])\n",
    "    newdate = newdate[0:10]\n",
    "    dates.append(newdate)\n",
    "ANTM['dates'] = dates\n",
    "\n",
    "# Create a Series called nf\n",
    "stock2 = ANTM.Close"
   ]
  },
  {
   "cell_type": "code",
   "execution_count": 20,
   "metadata": {
    "collapsed": false
   },
   "outputs": [
    {
     "data": {
      "text/plain": [
       "<matplotlib.axes._subplots.AxesSubplot at 0x10af81410>"
      ]
     },
     "execution_count": 20,
     "metadata": {},
     "output_type": "execute_result"
    },
    {
     "data": {
      "image/png": "[encoded data removed]",
      "text/plain": [
       "<matplotlib.figure.Figure at 0x10b86f110>"
      ]
     },
     "metadata": {},
     "output_type": "display_data"
    }
   ],
   "source": [
    "stock2.plot()"
   ]
  },
  {
   "cell_type": "code",
   "execution_count": 21,
   "metadata": {
    "collapsed": true
   },
   "outputs": [],
   "source": [
    "CYH.to_csv('CYH_stock.csv')"
   ]
  },
  {
   "cell_type": "code",
   "execution_count": 22,
   "metadata": {
    "collapsed": false,
    "deletable": true,
    "editable": true
   },
   "outputs": [],
   "source": [
    "ANTM.to_csv('ANTM_stock.csv')"
   ]
  },
  {
   "cell_type": "code",
   "execution_count": 34,
   "metadata": {
    "collapsed": false,
    "deletable": true,
    "editable": true
   },
   "outputs": [
    {
     "name": "stdout",
     "output_type": "stream",
     "text": [
      "[*********************100%***********************]  1 of 1 downloaded"
     ]
    }
   ],
   "source": [
    "import fix_yahoo_finance as yf\n",
    "data = yf.download(\"DGX\", start=\"2016-10-01\", end=\"2017-07-01\")\n",
    "stock = data.Close"
   ]
  },
  {
   "cell_type": "code",
   "execution_count": 35,
   "metadata": {
    "collapsed": false,
    "deletable": true,
    "editable": true
   },
   "outputs": [
    {
     "data": {
      "text/plain": [
       "<matplotlib.axes._subplots.AxesSubplot at 0x115f17490>"
      ]
     },
     "execution_count": 35,
     "metadata": {},
     "output_type": "execute_result"
    },
    {
     "data": {
      "image/png": "[encoded data removed]",
      "text/plain": [
       "<matplotlib.figure.Figure at 0x115d64c10>"
      ]
     },
     "metadata": {},
     "output_type": "display_data"
    }
   ],
   "source": [
    "stock.plot()"
   ]
  },
  {
   "cell_type": "code",
   "execution_count": 36,
   "metadata": {
    "collapsed": true,
    "deletable": true,
    "editable": true
   },
   "outputs": [],
   "source": [
    "data.to_csv('DGX_stock.csv')"
   ]
  }
 ],
 "metadata": {
  "kernelspec": {
   "display_name": "Python 2",
   "language": "python",
   "name": "python2"
  },
  "language_info": {
   "codemirror_mode": {
    "name": "ipython",
    "version": 2
   },
   "file_extension": ".py",
   "mimetype": "text/x-python",
   "name": "python",
   "nbconvert_exporter": "python",
   "pygments_lexer": "ipython2",
   "version": "2.7.11"
  }
 },
 "nbformat": 4,
 "nbformat_minor": 2
}
